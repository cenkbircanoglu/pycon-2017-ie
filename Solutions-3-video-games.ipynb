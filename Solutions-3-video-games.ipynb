{
 "cells": [
  {
   "cell_type": "code",
   "execution_count": 1,
   "metadata": {},
   "outputs": [],
   "source": [
    "%matplotlib inline\n",
    "import pandas as pd"
   ]
  },
  {
   "cell_type": "code",
   "execution_count": 2,
   "metadata": {},
   "outputs": [
    {
     "data": {
      "text/html": [
       "<style>body {\n",
       "    margin: 0;\n",
       "    font-family: Helvetica;\n",
       "}\n",
       "\n",
       "table.dataframe {\n",
       "    border-collapse: collapse;\n",
       "    border: none;\n",
       "}\n",
       "\n",
       "table.dataframe tr {\n",
       "    border: none;\n",
       "}\n",
       "\n",
       "table.dataframe td, table.dataframe th {\n",
       "    margin: 0;\n",
       "    border: 1px solid white;\n",
       "    padding-left: 0.25em;\n",
       "    padding-right: 0.25em;\n",
       "}\n",
       "\n",
       "table.dataframe th:not(:empty) {\n",
       "    background-color: #fec;\n",
       "    text-align: left;\n",
       "    font-weight: normal;\n",
       "}\n",
       "\n",
       "table.dataframe tr:nth-child(2) th:empty {\n",
       "    border-left: none;\n",
       "    border-right: 1px dashed #888;\n",
       "}\n",
       "\n",
       "table.dataframe td {\n",
       "    border: 2px solid #ccf;\n",
       "    background-color: #f4f4ff;\n",
       "}\n",
       "h3 {\n",
       "    color: white;\n",
       "    background-color: black;\n",
       "    padding: 0.5em;\n",
       "}</style>"
      ],
      "text/plain": [
       "<IPython.core.display.HTML object>"
      ]
     },
     "execution_count": 2,
     "metadata": {},
     "output_type": "execute_result"
    }
   ],
   "source": [
    "from IPython.core.display import HTML\n",
    "css = open('table.css').read() + open('notebook.css').read()\n",
    "HTML('<style>{}</style>'.format(css))"
   ]
  },
  {
   "cell_type": "code",
   "execution_count": 3,
   "metadata": {},
   "outputs": [
    {
     "data": {
      "text/html": [
       "<div>\n",
       "<style>\n",
       "    .dataframe thead tr:only-child th {\n",
       "        text-align: right;\n",
       "    }\n",
       "\n",
       "    .dataframe thead th {\n",
       "        text-align: left;\n",
       "    }\n",
       "\n",
       "    .dataframe tbody tr th {\n",
       "        vertical-align: top;\n",
       "    }\n",
       "</style>\n",
       "<table border=\"1\" class=\"dataframe\">\n",
       "  <thead>\n",
       "    <tr style=\"text-align: right;\">\n",
       "      <th></th>\n",
       "      <th>brand</th>\n",
       "      <th>categories</th>\n",
       "      <th>description</th>\n",
       "      <th>imUrl</th>\n",
       "      <th>price</th>\n",
       "      <th>productID</th>\n",
       "      <th>related</th>\n",
       "      <th>salesRank</th>\n",
       "      <th>title</th>\n",
       "    </tr>\n",
       "  </thead>\n",
       "  <tbody>\n",
       "    <tr>\n",
       "      <th>1012282</th>\n",
       "      <td>Dark Age Miniatures</td>\n",
       "      <td>[[Video Games, PC, Games]]</td>\n",
       "      <td>None</td>\n",
       "      <td>http://ecx.images-amazon.com/images/I/61IaJuP1...</td>\n",
       "      <td>31.23</td>\n",
       "      <td>0984529527</td>\n",
       "      <td>None</td>\n",
       "      <td>{u'Toys &amp; Games': 751946}</td>\n",
       "      <td>Dark Age Apocalypse: Forcelists HC</td>\n",
       "    </tr>\n",
       "    <tr>\n",
       "      <th>1315355</th>\n",
       "      <td>None</td>\n",
       "      <td>[[Video Games, PC, Games]]</td>\n",
       "      <td>Microsoft's Flight Simulator X is now making i...</td>\n",
       "      <td>http://ecx.images-amazon.com/images/I/41TaIYT%...</td>\n",
       "      <td>27.64</td>\n",
       "      <td>1557556741</td>\n",
       "      <td>{u'also_bought': [u'B002JZH9E4'], u'buy_after_...</td>\n",
       "      <td>{u'Video Games': 61369}</td>\n",
       "      <td>None</td>\n",
       "    </tr>\n",
       "    <tr>\n",
       "      <th>1321069</th>\n",
       "      <td>None</td>\n",
       "      <td>[[Video Games, PC, Games]]</td>\n",
       "      <td>CYBERPUNK VAMPIRE ROLE-PLAYING PC GAME SET IN ...</td>\n",
       "      <td>http://ecx.images-amazon.com/images/I/41HClAKt...</td>\n",
       "      <td>NaN</td>\n",
       "      <td>1558843477</td>\n",
       "      <td>None</td>\n",
       "      <td>{u'Video Games': 56174}</td>\n",
       "      <td>None</td>\n",
       "    </tr>\n",
       "    <tr>\n",
       "      <th>1336988</th>\n",
       "      <td>None</td>\n",
       "      <td>[[Video Games, PC, Games]]</td>\n",
       "      <td>None</td>\n",
       "      <td>http://ecx.images-amazon.com/images/I/41PBCXQ3...</td>\n",
       "      <td>43.99</td>\n",
       "      <td>1563820412</td>\n",
       "      <td>None</td>\n",
       "      <td>{u'Software': 47380}</td>\n",
       "      <td>None</td>\n",
       "    </tr>\n",
       "    <tr>\n",
       "      <th>1377319</th>\n",
       "      <td>Palladium Books</td>\n",
       "      <td>[[Video Games, Nintendo DS, Games]]</td>\n",
       "      <td>The Rifter is your doorway to unlimited imagin...</td>\n",
       "      <td>http://ecx.images-amazon.com/images/I/41r7cYfc...</td>\n",
       "      <td>9.55</td>\n",
       "      <td>1574571931</td>\n",
       "      <td>{u'also_bought': [u'157457194X', u'1574571923'...</td>\n",
       "      <td>{u'Toys &amp; Games': 594770}</td>\n",
       "      <td>Rifts RPG: The Rifter&amp;reg; #56</td>\n",
       "    </tr>\n",
       "  </tbody>\n",
       "</table>\n",
       "</div>"
      ],
      "text/plain": [
       "                       brand                           categories  \\\n",
       "1012282  Dark Age Miniatures           [[Video Games, PC, Games]]   \n",
       "1315355                 None           [[Video Games, PC, Games]]   \n",
       "1321069                 None           [[Video Games, PC, Games]]   \n",
       "1336988                 None           [[Video Games, PC, Games]]   \n",
       "1377319      Palladium Books  [[Video Games, Nintendo DS, Games]]   \n",
       "\n",
       "                                               description  \\\n",
       "1012282                                               None   \n",
       "1315355  Microsoft's Flight Simulator X is now making i...   \n",
       "1321069  CYBERPUNK VAMPIRE ROLE-PLAYING PC GAME SET IN ...   \n",
       "1336988                                               None   \n",
       "1377319  The Rifter is your doorway to unlimited imagin...   \n",
       "\n",
       "                                                     imUrl  price   productID  \\\n",
       "1012282  http://ecx.images-amazon.com/images/I/61IaJuP1...  31.23  0984529527   \n",
       "1315355  http://ecx.images-amazon.com/images/I/41TaIYT%...  27.64  1557556741   \n",
       "1321069  http://ecx.images-amazon.com/images/I/41HClAKt...    NaN  1558843477   \n",
       "1336988  http://ecx.images-amazon.com/images/I/41PBCXQ3...  43.99  1563820412   \n",
       "1377319  http://ecx.images-amazon.com/images/I/41r7cYfc...   9.55  1574571931   \n",
       "\n",
       "                                                   related  \\\n",
       "1012282                                               None   \n",
       "1315355  {u'also_bought': [u'B002JZH9E4'], u'buy_after_...   \n",
       "1321069                                               None   \n",
       "1336988                                               None   \n",
       "1377319  {u'also_bought': [u'157457194X', u'1574571923'...   \n",
       "\n",
       "                         salesRank                               title  \n",
       "1012282  {u'Toys & Games': 751946}  Dark Age Apocalypse: Forcelists HC  \n",
       "1315355    {u'Video Games': 61369}                                None  \n",
       "1321069    {u'Video Games': 56174}                                None  \n",
       "1336988       {u'Software': 47380}                                None  \n",
       "1377319  {u'Toys & Games': 594770}      Rifts RPG: The Rifter&reg; #56  "
      ]
     },
     "execution_count": 3,
     "metadata": {},
     "output_type": "execute_result"
    }
   ],
   "source": [
    "video_games = pd.read_json(\"../processed/videogames.json\")\n",
    "video_games.head(5)"
   ]
  },
  {
   "cell_type": "markdown",
   "metadata": {},
   "source": [
    "#### How many video games are there?"
   ]
  },
  {
   "cell_type": "code",
   "execution_count": 4,
   "metadata": {},
   "outputs": [
    {
     "data": {
      "text/plain": [
       "50210"
      ]
     },
     "execution_count": 4,
     "metadata": {},
     "output_type": "execute_result"
    }
   ],
   "source": [
    "len(video_games)"
   ]
  },
  {
   "cell_type": "markdown",
   "metadata": {},
   "source": [
    "#### Which 5 brand have more video games?"
   ]
  },
  {
   "cell_type": "code",
   "execution_count": 5,
   "metadata": {},
   "outputs": [
    {
     "data": {
      "text/plain": [
       "Generic        40\n",
       "Mad Catz       35\n",
       "Logitech       35\n",
       "SteelSeries    32\n",
       "Razer          25\n",
       "Name: brand, dtype: int64"
      ]
     },
     "execution_count": 5,
     "metadata": {},
     "output_type": "execute_result"
    }
   ],
   "source": [
    "video_games[\"brand\"].value_counts().nlargest(5)"
   ]
  },
  {
   "cell_type": "markdown",
   "metadata": {},
   "source": [
    "#### Is there a video game that has no title? If there is, count of untitled video games"
   ]
  },
  {
   "cell_type": "code",
   "execution_count": 6,
   "metadata": {},
   "outputs": [
    {
     "data": {
      "text/plain": [
       "48071"
      ]
     },
     "execution_count": 6,
     "metadata": {},
     "output_type": "execute_result"
    }
   ],
   "source": [
    "len(video_games[video_games.title.isnull()])"
   ]
  },
  {
   "cell_type": "markdown",
   "metadata": {},
   "source": [
    "#### Remove video games which has no title?"
   ]
  },
  {
   "cell_type": "code",
   "execution_count": 7,
   "metadata": {},
   "outputs": [],
   "source": [
    "video_games = video_games[~video_games.title.isnull()]"
   ]
  },
  {
   "cell_type": "code",
   "execution_count": 8,
   "metadata": {},
   "outputs": [],
   "source": [
    "video_games = video_games.dropna(subset=[\"title\"])"
   ]
  },
  {
   "cell_type": "markdown",
   "metadata": {},
   "source": [
    "#### How many categories are there in video_games dataframe?"
   ]
  },
  {
   "cell_type": "code",
   "execution_count": 9,
   "metadata": {},
   "outputs": [
    {
     "data": {
      "text/plain": [
       "126"
      ]
     },
     "execution_count": 9,
     "metadata": {},
     "output_type": "execute_result"
    }
   ],
   "source": [
    "list_of_category_lists = video_games.categories.sum()\n",
    "len(set(x for l in list_of_category_lists for x in l))"
   ]
  },
  {
   "cell_type": "markdown",
   "metadata": {},
   "source": [
    "#### Find the number of video games by per category"
   ]
  },
  {
   "cell_type": "code",
   "execution_count": 10,
   "metadata": {},
   "outputs": [
    {
     "data": {
      "text/plain": [
       "[(u'Video Games', 2099),\n",
       " (u'Accessories', 1778),\n",
       " (u'PC', 874),\n",
       " (u'Controllers', 453),\n",
       " (u'More Systems', 284)]"
      ]
     },
     "execution_count": 10,
     "metadata": {},
     "output_type": "execute_result"
    }
   ],
   "source": [
    "from collections import Counter\n",
    "counter = Counter()\n",
    "video_games.categories.apply(lambda x: Counter(x[0])).sum().most_common(5)"
   ]
  },
  {
   "cell_type": "markdown",
   "metadata": {},
   "source": [
    "#### Which is the most expensive video game?"
   ]
  },
  {
   "cell_type": "code",
   "execution_count": 11,
   "metadata": {},
   "outputs": [
    {
     "data": {
      "text/plain": [
       "brand                                                       None\n",
       "categories     [[Video Games, PC, Accessories, Controllers, S...\n",
       "description    Amazing Racing Wheel, and Pedals Combination f...\n",
       "imUrl          http://ecx.images-amazon.com/images/I/41T3IjzI...\n",
       "price                                                     759.12\n",
       "productID                                             B00006JJIC\n",
       "related        {u'also_viewed': [u'B001NT9TK4', u'B000ODVKUC'...\n",
       "salesRank                                                     {}\n",
       "title          Logitech MOMO Racing - Wheel and pedals set - ...\n",
       "Name: 2123933, dtype: object"
      ]
     },
     "execution_count": 11,
     "metadata": {},
     "output_type": "execute_result"
    }
   ],
   "source": [
    "video_games.loc[video_games['price'].idxmax()]"
   ]
  },
  {
   "cell_type": "markdown",
   "metadata": {},
   "source": [
    "#### Which is the cheapest video game?"
   ]
  },
  {
   "cell_type": "code",
   "execution_count": 12,
   "metadata": {},
   "outputs": [
    {
     "data": {
      "text/plain": [
       "brand                                                       None\n",
       "categories     [[Video Games, More Systems, PlayStation 2, Ha...\n",
       "description    Now you can play your favorite movies without ...\n",
       "imUrl          http://ecx.images-amazon.com/images/I/319XlHJ0...\n",
       "price                                                       0.01\n",
       "productID                                             B00006JPQV\n",
       "related        {u'also_viewed': [u'B00009W5WH', u'B002EB6XGS'...\n",
       "salesRank                                                   None\n",
       "title          MADCATZ 8241 DVD 2 Wireless Remote for PlaySta...\n",
       "Name: 2125183, dtype: object"
      ]
     },
     "execution_count": 12,
     "metadata": {},
     "output_type": "execute_result"
    }
   ],
   "source": [
    "video_games.loc[video_games['price'].idxmin()]"
   ]
  },
  {
   "cell_type": "markdown",
   "metadata": {},
   "source": [
    "#### Find all games which has \"Age Of\" in titles (case insensitive way)"
   ]
  },
  {
   "cell_type": "code",
   "execution_count": 13,
   "metadata": {},
   "outputs": [
    {
     "data": {
      "text/html": [
       "<div>\n",
       "<style>\n",
       "    .dataframe thead tr:only-child th {\n",
       "        text-align: right;\n",
       "    }\n",
       "\n",
       "    .dataframe thead th {\n",
       "        text-align: left;\n",
       "    }\n",
       "\n",
       "    .dataframe tbody tr th {\n",
       "        vertical-align: top;\n",
       "    }\n",
       "</style>\n",
       "<table border=\"1\" class=\"dataframe\">\n",
       "  <thead>\n",
       "    <tr style=\"text-align: right;\">\n",
       "      <th></th>\n",
       "      <th>brand</th>\n",
       "      <th>categories</th>\n",
       "      <th>description</th>\n",
       "      <th>imUrl</th>\n",
       "      <th>price</th>\n",
       "      <th>productID</th>\n",
       "      <th>related</th>\n",
       "      <th>salesRank</th>\n",
       "      <th>title</th>\n",
       "    </tr>\n",
       "  </thead>\n",
       "  <tbody>\n",
       "    <tr>\n",
       "      <th>2225346</th>\n",
       "      <td>None</td>\n",
       "      <td>[[Video Games, More Systems, PDAs]]</td>\n",
       "      <td>None</td>\n",
       "      <td>http://ecx.images-amazon.com/images/I/517GX364...</td>\n",
       "      <td>41.99</td>\n",
       "      <td>B0001594QK</td>\n",
       "      <td>{u'also_viewed': [u'B000J18SR2'], u'buy_after_...</td>\n",
       "      <td>{u'Electronics': 221730}</td>\n",
       "      <td>Age Of Empires: Pocket PC Edition</td>\n",
       "    </tr>\n",
       "    <tr>\n",
       "      <th>3466444</th>\n",
       "      <td>None</td>\n",
       "      <td>[[Video Games, More Systems, PlayStation 2, Ha...</td>\n",
       "      <td>From the ManufacturerAge of Conan brings you i...</td>\n",
       "      <td>http://ecx.images-amazon.com/images/I/41ZYNx63...</td>\n",
       "      <td>9.20</td>\n",
       "      <td>B001697TB2</td>\n",
       "      <td>{u'also_viewed': [u'B0075W8DG4', u'B00FWK8UWI'...</td>\n",
       "      <td>None</td>\n",
       "      <td>Ideazon Age of Conan Keyset for Zboard</td>\n",
       "    </tr>\n",
       "    <tr>\n",
       "      <th>4876866</th>\n",
       "      <td>Strategy First</td>\n",
       "      <td>[[Video Games, PC, Games]]</td>\n",
       "      <td>Platform:&amp;nbsp;&amp;nbsp;WINDOWS XP/VISTA/WINDOWS ...</td>\n",
       "      <td>http://ecx.images-amazon.com/images/I/41Fim6ES...</td>\n",
       "      <td>4.00</td>\n",
       "      <td>B003VEFXTU</td>\n",
       "      <td>None</td>\n",
       "      <td>None</td>\n",
       "      <td>Galactic Dream - Rage Of War</td>\n",
       "    </tr>\n",
       "  </tbody>\n",
       "</table>\n",
       "</div>"
      ],
      "text/plain": [
       "                  brand                                         categories  \\\n",
       "2225346            None                [[Video Games, More Systems, PDAs]]   \n",
       "3466444            None  [[Video Games, More Systems, PlayStation 2, Ha...   \n",
       "4876866  Strategy First                         [[Video Games, PC, Games]]   \n",
       "\n",
       "                                               description  \\\n",
       "2225346                                               None   \n",
       "3466444  From the ManufacturerAge of Conan brings you i...   \n",
       "4876866  Platform:&nbsp;&nbsp;WINDOWS XP/VISTA/WINDOWS ...   \n",
       "\n",
       "                                                     imUrl  price   productID  \\\n",
       "2225346  http://ecx.images-amazon.com/images/I/517GX364...  41.99  B0001594QK   \n",
       "3466444  http://ecx.images-amazon.com/images/I/41ZYNx63...   9.20  B001697TB2   \n",
       "4876866  http://ecx.images-amazon.com/images/I/41Fim6ES...   4.00  B003VEFXTU   \n",
       "\n",
       "                                                   related  \\\n",
       "2225346  {u'also_viewed': [u'B000J18SR2'], u'buy_after_...   \n",
       "3466444  {u'also_viewed': [u'B0075W8DG4', u'B00FWK8UWI'...   \n",
       "4876866                                               None   \n",
       "\n",
       "                        salesRank                                   title  \n",
       "2225346  {u'Electronics': 221730}       Age Of Empires: Pocket PC Edition  \n",
       "3466444                      None  Ideazon Age of Conan Keyset for Zboard  \n",
       "4876866                      None            Galactic Dream - Rage Of War  "
      ]
     },
     "execution_count": 13,
     "metadata": {},
     "output_type": "execute_result"
    }
   ],
   "source": [
    "video_games[video_games['title'].str.lower().str.contains(\"age of\")]"
   ]
  },
  {
   "cell_type": "markdown",
   "metadata": {},
   "source": [
    "#### Calculate the averate price"
   ]
  },
  {
   "cell_type": "code",
   "execution_count": 14,
   "metadata": {},
   "outputs": [
    {
     "data": {
      "text/plain": [
       "40.179939226519338"
      ]
     },
     "execution_count": 14,
     "metadata": {},
     "output_type": "execute_result"
    }
   ],
   "source": [
    "video_games[\"price\"].mean()"
   ]
  },
  {
   "cell_type": "markdown",
   "metadata": {},
   "source": [
    "#### All prices are given in dollar and convert it to euro ( let's say 1 dollar is 0.85 euro)"
   ]
  },
  {
   "cell_type": "code",
   "execution_count": 15,
   "metadata": {},
   "outputs": [
    {
     "data": {
      "text/plain": [
       "1012282    26.5455\n",
       "1377319     8.1175\n",
       "1458323        NaN\n",
       "1528242    13.1580\n",
       "1536208    28.8660\n",
       "Name: price_in_euro, dtype: float64"
      ]
     },
     "execution_count": 15,
     "metadata": {},
     "output_type": "execute_result"
    }
   ],
   "source": [
    "video_games[\"price_in_euro\"] = video_games[\"price\"] * 0.85\n",
    "video_games[\"price_in_euro\"].head()"
   ]
  },
  {
   "cell_type": "code",
   "execution_count": null,
   "metadata": {},
   "outputs": [],
   "source": []
  },
  {
   "cell_type": "code",
   "execution_count": null,
   "metadata": {},
   "outputs": [],
   "source": []
  },
  {
   "cell_type": "code",
   "execution_count": null,
   "metadata": {},
   "outputs": [],
   "source": []
  },
  {
   "cell_type": "code",
   "execution_count": null,
   "metadata": {},
   "outputs": [],
   "source": []
  },
  {
   "cell_type": "code",
   "execution_count": null,
   "metadata": {},
   "outputs": [],
   "source": []
  },
  {
   "cell_type": "code",
   "execution_count": null,
   "metadata": {},
   "outputs": [],
   "source": []
  },
  {
   "cell_type": "code",
   "execution_count": null,
   "metadata": {},
   "outputs": [],
   "source": []
  }
 ],
 "metadata": {
  "kernelspec": {
   "display_name": "Python 2",
   "language": "python",
   "name": "python2"
  },
  "language_info": {
   "codemirror_mode": {
    "name": "ipython",
    "version": 2
   },
   "file_extension": ".py",
   "mimetype": "text/x-python",
   "name": "python",
   "nbconvert_exporter": "python",
   "pygments_lexer": "ipython2",
   "version": "2.7.10"
  }
 },
 "nbformat": 4,
 "nbformat_minor": 1
}
