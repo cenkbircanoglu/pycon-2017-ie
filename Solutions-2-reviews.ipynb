{
 "cells": [
  {
   "cell_type": "code",
   "execution_count": 1,
   "metadata": {},
   "outputs": [],
   "source": [
    "%matplotlib inline\n",
    "import datetime\n",
    "from collections import Counter\n",
    "\n",
    "import pandas as pd\n",
    "\n",
    "from sentiment_classification import run_network\n",
    "from utils import clean_text\n",
    "from utils import calc_ratios\n"
   ]
  },
  {
   "cell_type": "code",
   "execution_count": 2,
   "metadata": {},
   "outputs": [
    {
     "data": {
      "text/html": [
       "<style>body {\n",
       "    margin: 0;\n",
       "    font-family: Helvetica;\n",
       "}\n",
       "\n",
       "table.dataframe {\n",
       "    border-collapse: collapse;\n",
       "    border: none;\n",
       "}\n",
       "\n",
       "table.dataframe tr {\n",
       "    border: none;\n",
       "}\n",
       "\n",
       "table.dataframe td, table.dataframe th {\n",
       "    margin: 0;\n",
       "    border: 1px solid white;\n",
       "    padding-left: 0.25em;\n",
       "    padding-right: 0.25em;\n",
       "}\n",
       "\n",
       "table.dataframe th:not(:empty) {\n",
       "    background-color: #fec;\n",
       "    text-align: left;\n",
       "    font-weight: normal;\n",
       "}\n",
       "\n",
       "table.dataframe tr:nth-child(2) th:empty {\n",
       "    border-left: none;\n",
       "    border-right: 1px dashed #888;\n",
       "}\n",
       "\n",
       "table.dataframe td {\n",
       "    border: 2px solid #ccf;\n",
       "    background-color: #f4f4ff;\n",
       "}\n",
       "h3 {\n",
       "    color: white;\n",
       "    background-color: black;\n",
       "    padding: 0.5em;\n",
       "}</style>"
      ],
      "text/plain": [
       "<IPython.core.display.HTML object>"
      ]
     },
     "execution_count": 2,
     "metadata": {},
     "output_type": "execute_result"
    }
   ],
   "source": [
    "from IPython.core.display import HTML\n",
    "css = open('table.css').read() + open('notebook.css').read()\n",
    "HTML('<style>{}</style>'.format(css))"
   ]
  },
  {
   "cell_type": "code",
   "execution_count": 3,
   "metadata": {},
   "outputs": [
    {
     "data": {
      "text/html": [
       "<div>\n",
       "<style>\n",
       "    .dataframe thead tr:only-child th {\n",
       "        text-align: right;\n",
       "    }\n",
       "\n",
       "    .dataframe thead th {\n",
       "        text-align: left;\n",
       "    }\n",
       "\n",
       "    .dataframe tbody tr th {\n",
       "        vertical-align: top;\n",
       "    }\n",
       "</style>\n",
       "<table border=\"1\" class=\"dataframe\">\n",
       "  <thead>\n",
       "    <tr style=\"text-align: right;\">\n",
       "      <th></th>\n",
       "      <th>userID</th>\n",
       "      <th>productID</th>\n",
       "      <th>userName</th>\n",
       "      <th>reviewText</th>\n",
       "      <th>summary</th>\n",
       "      <th>unixReviewTime</th>\n",
       "      <th>reviewTime</th>\n",
       "    </tr>\n",
       "  </thead>\n",
       "  <tbody>\n",
       "    <tr>\n",
       "      <th>0</th>\n",
       "      <td>A2HD75EMZR8QLN</td>\n",
       "      <td>0700099867</td>\n",
       "      <td>123</td>\n",
       "      <td>Installing the game was a struggle (because of...</td>\n",
       "      <td>Pay to unlock content? I don't think so.</td>\n",
       "      <td>1341792000</td>\n",
       "      <td>07 9, 2012</td>\n",
       "    </tr>\n",
       "    <tr>\n",
       "      <th>1</th>\n",
       "      <td>A3UR8NLLY1ZHCX</td>\n",
       "      <td>0700099867</td>\n",
       "      <td>Alejandro Henao \"Electronic Junky\"</td>\n",
       "      <td>If you like rally cars get this game you will ...</td>\n",
       "      <td>Good rally game</td>\n",
       "      <td>1372550400</td>\n",
       "      <td>06 30, 2013</td>\n",
       "    </tr>\n",
       "    <tr>\n",
       "      <th>2</th>\n",
       "      <td>A1INA0F5CWW3J4</td>\n",
       "      <td>0700099867</td>\n",
       "      <td>Amazon Shopper \"Mr.Repsol\"</td>\n",
       "      <td>1st shipment received a book instead of the ga...</td>\n",
       "      <td>Wrong key</td>\n",
       "      <td>1403913600</td>\n",
       "      <td>06 28, 2014</td>\n",
       "    </tr>\n",
       "    <tr>\n",
       "      <th>3</th>\n",
       "      <td>A1DLMTOTHQ4AST</td>\n",
       "      <td>0700099867</td>\n",
       "      <td>ampgreen</td>\n",
       "      <td>I got this version instead of the PS3 version,...</td>\n",
       "      <td>awesome game, if it did not crash frequently !!</td>\n",
       "      <td>1315958400</td>\n",
       "      <td>09 14, 2011</td>\n",
       "    </tr>\n",
       "    <tr>\n",
       "      <th>4</th>\n",
       "      <td>A361M14PU2GUEG</td>\n",
       "      <td>0700099867</td>\n",
       "      <td>Angry Ryan \"Ryan A. Forrest\"</td>\n",
       "      <td>I had Dirt 2 on Xbox 360 and it was an okay ga...</td>\n",
       "      <td>DIRT 3</td>\n",
       "      <td>1308009600</td>\n",
       "      <td>06 14, 2011</td>\n",
       "    </tr>\n",
       "  </tbody>\n",
       "</table>\n",
       "</div>"
      ],
      "text/plain": [
       "           userID   productID                            userName  \\\n",
       "0  A2HD75EMZR8QLN  0700099867                                 123   \n",
       "1  A3UR8NLLY1ZHCX  0700099867  Alejandro Henao \"Electronic Junky\"   \n",
       "2  A1INA0F5CWW3J4  0700099867          Amazon Shopper \"Mr.Repsol\"   \n",
       "3  A1DLMTOTHQ4AST  0700099867                            ampgreen   \n",
       "4  A361M14PU2GUEG  0700099867        Angry Ryan \"Ryan A. Forrest\"   \n",
       "\n",
       "                                          reviewText  \\\n",
       "0  Installing the game was a struggle (because of...   \n",
       "1  If you like rally cars get this game you will ...   \n",
       "2  1st shipment received a book instead of the ga...   \n",
       "3  I got this version instead of the PS3 version,...   \n",
       "4  I had Dirt 2 on Xbox 360 and it was an okay ga...   \n",
       "\n",
       "                                           summary  unixReviewTime  \\\n",
       "0         Pay to unlock content? I don't think so.      1341792000   \n",
       "1                                  Good rally game      1372550400   \n",
       "2                                        Wrong key      1403913600   \n",
       "3  awesome game, if it did not crash frequently !!      1315958400   \n",
       "4                                           DIRT 3      1308009600   \n",
       "\n",
       "    reviewTime  \n",
       "0   07 9, 2012  \n",
       "1  06 30, 2013  \n",
       "2  06 28, 2014  \n",
       "3  09 14, 2011  \n",
       "4  06 14, 2011  "
      ]
     },
     "execution_count": 3,
     "metadata": {},
     "output_type": "execute_result"
    }
   ],
   "source": [
    "reviews = pd.read_csv(\"reviews.csv\", encoding=\"utf-8\")\n",
    "reviews.head(5)"
   ]
  },
  {
   "cell_type": "code",
   "execution_count": 4,
   "metadata": {},
   "outputs": [
    {
     "data": {
      "text/html": [
       "<div>\n",
       "<style>\n",
       "    .dataframe thead tr:only-child th {\n",
       "        text-align: right;\n",
       "    }\n",
       "\n",
       "    .dataframe thead th {\n",
       "        text-align: left;\n",
       "    }\n",
       "\n",
       "    .dataframe tbody tr th {\n",
       "        vertical-align: top;\n",
       "    }\n",
       "</style>\n",
       "<table border=\"1\" class=\"dataframe\">\n",
       "  <thead>\n",
       "    <tr style=\"text-align: right;\">\n",
       "      <th></th>\n",
       "      <th>userID</th>\n",
       "      <th>productID</th>\n",
       "      <th>ratings</th>\n",
       "      <th>timestamp</th>\n",
       "    </tr>\n",
       "  </thead>\n",
       "  <tbody>\n",
       "    <tr>\n",
       "      <th>0</th>\n",
       "      <td>A24SSUT5CSW8BH</td>\n",
       "      <td>0078764343</td>\n",
       "      <td>5.0</td>\n",
       "      <td>1377302400</td>\n",
       "    </tr>\n",
       "    <tr>\n",
       "      <th>1</th>\n",
       "      <td>AK3V0HEBJMQ7J</td>\n",
       "      <td>0078764343</td>\n",
       "      <td>4.0</td>\n",
       "      <td>1372896000</td>\n",
       "    </tr>\n",
       "    <tr>\n",
       "      <th>2</th>\n",
       "      <td>A10BECPH7W8HM7</td>\n",
       "      <td>043933702X</td>\n",
       "      <td>5.0</td>\n",
       "      <td>1404950400</td>\n",
       "    </tr>\n",
       "    <tr>\n",
       "      <th>3</th>\n",
       "      <td>A2PRV9OULX1TWP</td>\n",
       "      <td>043933702X</td>\n",
       "      <td>5.0</td>\n",
       "      <td>1386115200</td>\n",
       "    </tr>\n",
       "    <tr>\n",
       "      <th>4</th>\n",
       "      <td>AE7GUHCDQQ4UI</td>\n",
       "      <td>043933702X</td>\n",
       "      <td>1.0</td>\n",
       "      <td>1366156800</td>\n",
       "    </tr>\n",
       "  </tbody>\n",
       "</table>\n",
       "</div>"
      ],
      "text/plain": [
       "           userID   productID  ratings   timestamp\n",
       "0  A24SSUT5CSW8BH  0078764343      5.0  1377302400\n",
       "1   AK3V0HEBJMQ7J  0078764343      4.0  1372896000\n",
       "2  A10BECPH7W8HM7  043933702X      5.0  1404950400\n",
       "3  A2PRV9OULX1TWP  043933702X      5.0  1386115200\n",
       "4   AE7GUHCDQQ4UI  043933702X      1.0  1366156800"
      ]
     },
     "execution_count": 4,
     "metadata": {},
     "output_type": "execute_result"
    }
   ],
   "source": [
    "ratings = pd.read_csv(\"ratings.csv\", encoding=\"utf-8\")\n",
    "ratings.head(5)"
   ]
  },
  {
   "cell_type": "markdown",
   "metadata": {},
   "source": [
    "#### How many reviews are there?"
   ]
  },
  {
   "cell_type": "code",
   "execution_count": 5,
   "metadata": {},
   "outputs": [
    {
     "data": {
      "text/plain": [
       "231780"
      ]
     },
     "execution_count": 5,
     "metadata": {},
     "output_type": "execute_result"
    }
   ],
   "source": [
    "len(reviews)"
   ]
  },
  {
   "cell_type": "markdown",
   "metadata": {},
   "source": [
    "#### Who has the most review data?"
   ]
  },
  {
   "cell_type": "code",
   "execution_count": 6,
   "metadata": {},
   "outputs": [
    {
     "data": {
      "text/plain": [
       "1400    Lisa Shea \"be the change you wish to see in t...\n",
       "Name: userName, dtype: object"
      ]
     },
     "execution_count": 6,
     "metadata": {},
     "output_type": "execute_result"
    }
   ],
   "source": [
    "reviews[reviews[\"userID\"] == reviews[\"userID\"].value_counts().idxmax()].userName.head(1)"
   ]
  },
  {
   "cell_type": "markdown",
   "metadata": {},
   "source": [
    "#### Convert unixReviewTime field to date field and add it dataframe with column name date"
   ]
  },
  {
   "cell_type": "code",
   "execution_count": 7,
   "metadata": {},
   "outputs": [],
   "source": [
    "reviews[\"date\"] = pd.to_datetime(reviews[\"unixReviewTime\"], unit='s')"
   ]
  },
  {
   "cell_type": "markdown",
   "metadata": {},
   "source": [
    "#### What is the very first reviewText?"
   ]
  },
  {
   "cell_type": "code",
   "execution_count": 8,
   "metadata": {},
   "outputs": [
    {
     "data": {
      "text/html": [
       "<div>\n",
       "<style>\n",
       "    .dataframe thead tr:only-child th {\n",
       "        text-align: right;\n",
       "    }\n",
       "\n",
       "    .dataframe thead th {\n",
       "        text-align: left;\n",
       "    }\n",
       "\n",
       "    .dataframe tbody tr th {\n",
       "        vertical-align: top;\n",
       "    }\n",
       "</style>\n",
       "<table border=\"1\" class=\"dataframe\">\n",
       "  <thead>\n",
       "    <tr style=\"text-align: right;\">\n",
       "      <th></th>\n",
       "      <th>reviewText</th>\n",
       "      <th>date</th>\n",
       "    </tr>\n",
       "  </thead>\n",
       "  <tbody>\n",
       "    <tr>\n",
       "      <th>4410</th>\n",
       "      <td>I'm having the most fun I've ever had on PlayS...</td>\n",
       "      <td>1999-10-14</td>\n",
       "    </tr>\n",
       "  </tbody>\n",
       "</table>\n",
       "</div>"
      ],
      "text/plain": [
       "                                             reviewText       date\n",
       "4410  I'm having the most fun I've ever had on PlayS... 1999-10-14"
      ]
     },
     "execution_count": 8,
     "metadata": {},
     "output_type": "execute_result"
    }
   ],
   "source": [
    "reviews.sort_values(by=\"unixReviewTime\", ascending=True).head(1)[[\"reviewText\",\"date\"]]"
   ]
  },
  {
   "cell_type": "markdown",
   "metadata": {},
   "source": [
    "#### What is the name of person that made first review?"
   ]
  },
  {
   "cell_type": "code",
   "execution_count": 9,
   "metadata": {},
   "outputs": [
    {
     "data": {
      "text/html": [
       "<div>\n",
       "<style>\n",
       "    .dataframe thead tr:only-child th {\n",
       "        text-align: right;\n",
       "    }\n",
       "\n",
       "    .dataframe thead th {\n",
       "        text-align: left;\n",
       "    }\n",
       "\n",
       "    .dataframe tbody tr th {\n",
       "        vertical-align: top;\n",
       "    }\n",
       "</style>\n",
       "<table border=\"1\" class=\"dataframe\">\n",
       "  <thead>\n",
       "    <tr style=\"text-align: right;\">\n",
       "      <th></th>\n",
       "      <th>userName</th>\n",
       "      <th>date</th>\n",
       "    </tr>\n",
       "  </thead>\n",
       "  <tbody>\n",
       "    <tr>\n",
       "      <th>4410</th>\n",
       "      <td>\"kwobooks\"</td>\n",
       "      <td>1999-10-14</td>\n",
       "    </tr>\n",
       "  </tbody>\n",
       "</table>\n",
       "</div>"
      ],
      "text/plain": [
       "        userName       date\n",
       "4410  \"kwobooks\" 1999-10-14"
      ]
     },
     "execution_count": 9,
     "metadata": {},
     "output_type": "execute_result"
    }
   ],
   "source": [
    "reviews.sort_values(by=\"unixReviewTime\", ascending=True).head(1)[[\"userName\",\"date\"]]"
   ]
  },
  {
   "cell_type": "markdown",
   "metadata": {},
   "source": [
    "#### What is the id of video games that is the last reviewed?"
   ]
  },
  {
   "cell_type": "code",
   "execution_count": 10,
   "metadata": {},
   "outputs": [
    {
     "data": {
      "text/html": [
       "<div>\n",
       "<style>\n",
       "    .dataframe thead tr:only-child th {\n",
       "        text-align: right;\n",
       "    }\n",
       "\n",
       "    .dataframe thead th {\n",
       "        text-align: left;\n",
       "    }\n",
       "\n",
       "    .dataframe tbody tr th {\n",
       "        vertical-align: top;\n",
       "    }\n",
       "</style>\n",
       "<table border=\"1\" class=\"dataframe\">\n",
       "  <thead>\n",
       "    <tr style=\"text-align: right;\">\n",
       "      <th></th>\n",
       "      <th>productID</th>\n",
       "      <th>date</th>\n",
       "    </tr>\n",
       "  </thead>\n",
       "  <tbody>\n",
       "    <tr>\n",
       "      <th>218837</th>\n",
       "      <td>B00BMFIXT2</td>\n",
       "      <td>2014-07-22</td>\n",
       "    </tr>\n",
       "  </tbody>\n",
       "</table>\n",
       "</div>"
      ],
      "text/plain": [
       "         productID       date\n",
       "218837  B00BMFIXT2 2014-07-22"
      ]
     },
     "execution_count": 10,
     "metadata": {},
     "output_type": "execute_result"
    }
   ],
   "source": [
    "reviews.sort_values(by=\"unixReviewTime\", ascending=False).head(1)[[\"productID\",\"date\"]]"
   ]
  },
  {
   "cell_type": "markdown",
   "metadata": {},
   "source": [
    "#### Make summaries lowercase and remove punctuations using clean_text function"
   ]
  },
  {
   "cell_type": "code",
   "execution_count": 11,
   "metadata": {},
   "outputs": [],
   "source": [
    "reviews = clean_text(reviews, \"summary\")"
   ]
  },
  {
   "cell_type": "markdown",
   "metadata": {},
   "source": [
    "#### What is the most occurrent summary in all data?"
   ]
  },
  {
   "cell_type": "code",
   "execution_count": 12,
   "metadata": {},
   "outputs": [
    {
     "data": {
      "text/plain": [
       "great game      3749\n",
       "awesome         1402\n",
       "great           1302\n",
       "good game       1259\n",
       "love it          930\n",
       "awesome game     796\n",
       "fun game         766\n",
       "fun              760\n",
       "amazing          608\n",
       "good             604\n",
       "Name: summary, dtype: int64"
      ]
     },
     "execution_count": 12,
     "metadata": {},
     "output_type": "execute_result"
    }
   ],
   "source": [
    "reviews[\"summary\"].value_counts().nlargest(10)"
   ]
  },
  {
   "cell_type": "markdown",
   "metadata": {},
   "source": [
    "#### What is the most occurrent summary in 2011?"
   ]
  },
  {
   "cell_type": "code",
   "execution_count": 13,
   "metadata": {},
   "outputs": [
    {
     "data": {
      "text/plain": [
       "great game      316\n",
       "awesome         102\n",
       "great            83\n",
       "good game        82\n",
       "amazing          67\n",
       "awesome game     67\n",
       "fun game         67\n",
       "love it          63\n",
       "fun              63\n",
       "wow              36\n",
       "Name: summary, dtype: int64"
      ]
     },
     "execution_count": 13,
     "metadata": {},
     "output_type": "execute_result"
    }
   ],
   "source": [
    "reviews[reviews.date.dt.year == 2011][\"summary\"].value_counts().nlargest(10)"
   ]
  },
  {
   "cell_type": "markdown",
   "metadata": {},
   "source": [
    "#### What is the most occurent word in summaries in 2000?"
   ]
  },
  {
   "cell_type": "code",
   "execution_count": 14,
   "metadata": {},
   "outputs": [
    {
     "data": {
      "text/plain": [
       "[('the', 413),\n",
       " ('game', 403),\n",
       " ('a', 356),\n",
       " ('great', 201),\n",
       " ('of', 173),\n",
       " ('best', 151),\n",
       " ('for', 140),\n",
       " ('good', 140),\n",
       " ('but', 137),\n",
       " ('is', 129)]"
      ]
     },
     "execution_count": 14,
     "metadata": {},
     "output_type": "execute_result"
    }
   ],
   "source": [
    "all_counter = Counter(reviews[reviews.date.dt.year == 2000][\"summary\"].str.split(\" \").sum())\n",
    "all_counter.most_common(10)"
   ]
  },
  {
   "cell_type": "markdown",
   "metadata": {},
   "source": [
    "#### What is the most occurent word in reviewTexts in 2000?"
   ]
  },
  {
   "cell_type": "code",
   "execution_count": 15,
   "metadata": {},
   "outputs": [
    {
     "data": {
      "text/plain": [
       "[(u'', 18114),\n",
       " (u'the', 17314),\n",
       " (u'and', 9467),\n",
       " (u'a', 9045),\n",
       " (u'to', 8865),\n",
       " (u'of', 7549),\n",
       " (u'is', 6833),\n",
       " (u'you', 6007),\n",
       " (u'game', 4659),\n",
       " (u'I', 4492)]"
      ]
     },
     "execution_count": 15,
     "metadata": {},
     "output_type": "execute_result"
    }
   ],
   "source": [
    "counter = Counter(reviews[reviews.date.dt.year == 2000][\"reviewText\"].str.split(\" \").sum())\n",
    "counter.most_common(10)"
   ]
  },
  {
   "cell_type": "markdown",
   "metadata": {},
   "source": [
    "#### What is the most occurent word in reviewTexts before 2000?"
   ]
  },
  {
   "cell_type": "code",
   "execution_count": 16,
   "metadata": {},
   "outputs": [
    {
     "data": {
      "text/plain": [
       "[(u'', 561),\n",
       " (u'the', 380),\n",
       " (u'and', 220),\n",
       " (u'a', 211),\n",
       " (u'to', 193),\n",
       " (u'is', 156),\n",
       " (u'of', 149),\n",
       " (u'you', 133),\n",
       " (u'I', 104),\n",
       " (u'game', 97)]"
      ]
     },
     "execution_count": 16,
     "metadata": {},
     "output_type": "execute_result"
    }
   ],
   "source": [
    "counter = Counter(reviews[reviews.date.dt.year < 2000][\"reviewText\"].str.split(\" \").sum())\n",
    "counter.most_common(10)"
   ]
  },
  {
   "cell_type": "markdown",
   "metadata": {},
   "source": [
    "#### Filter out reviews if there are older than 5 years"
   ]
  },
  {
   "cell_type": "code",
   "execution_count": 17,
   "metadata": {},
   "outputs": [],
   "source": [
    "reviews = reviews[reviews.date > datetime.datetime.now() - datetime.timedelta(days=5*365)]"
   ]
  },
  {
   "cell_type": "markdown",
   "metadata": {},
   "source": [
    "#### Join reviews and ratings dataframe on productID and userID"
   ]
  },
  {
   "cell_type": "code",
   "execution_count": 18,
   "metadata": {},
   "outputs": [],
   "source": [
    "review_ratings = pd.merge(reviews,ratings, on=[\"productID\",\"userID\"])"
   ]
  },
  {
   "cell_type": "markdown",
   "metadata": {},
   "source": [
    "#### Create a column named binary_ratings and for each row fill POSITIVE if ratings is bigger than 3 else fill NEGATIVE"
   ]
  },
  {
   "cell_type": "code",
   "execution_count": 19,
   "metadata": {},
   "outputs": [],
   "source": [
    "review_ratings[\"binary_ratings\"] = review_ratings[\"ratings\"].apply(lambda x: \"POSITIVE\" if x > 3 else \"NEGATIVE\")"
   ]
  },
  {
   "cell_type": "markdown",
   "metadata": {},
   "source": [
    "#### Find the most occurrent words in POSITIVE and NEGATIVE ratings"
   ]
  },
  {
   "cell_type": "code",
   "execution_count": 20,
   "metadata": {},
   "outputs": [],
   "source": [
    "counters = review_ratings.groupby(\"binary_ratings\").apply(lambda x: Counter(x.summary.str.split(\" \").sum()))"
   ]
  },
  {
   "cell_type": "markdown",
   "metadata": {},
   "source": [
    "#### Calculate the ratios of counter values"
   ]
  },
  {
   "cell_type": "code",
   "execution_count": 21,
   "metadata": {},
   "outputs": [],
   "source": [
    "total_counts = counters.sum()\n",
    "ratios = counters.apply(calc_ratios, total_counts=total_counts)"
   ]
  },
  {
   "cell_type": "code",
   "execution_count": 22,
   "metadata": {},
   "outputs": [
    {
     "data": {
      "text/html": [
       "<div>\n",
       "<style>\n",
       "    .dataframe thead tr:only-child th {\n",
       "        text-align: right;\n",
       "    }\n",
       "\n",
       "    .dataframe thead th {\n",
       "        text-align: left;\n",
       "    }\n",
       "\n",
       "    .dataframe tbody tr th {\n",
       "        vertical-align: top;\n",
       "    }\n",
       "</style>\n",
       "<table border=\"1\" class=\"dataframe\">\n",
       "  <thead>\n",
       "    <tr style=\"text-align: right;\">\n",
       "      <th></th>\n",
       "      <th>0</th>\n",
       "      <th>1</th>\n",
       "      <th>2</th>\n",
       "      <th>3</th>\n",
       "      <th>4</th>\n",
       "      <th>5</th>\n",
       "      <th>6</th>\n",
       "      <th>7</th>\n",
       "      <th>8</th>\n",
       "      <th>9</th>\n",
       "    </tr>\n",
       "    <tr>\n",
       "      <th>binary_ratings</th>\n",
       "      <th></th>\n",
       "      <th></th>\n",
       "      <th></th>\n",
       "      <th></th>\n",
       "      <th></th>\n",
       "      <th></th>\n",
       "      <th></th>\n",
       "      <th></th>\n",
       "      <th></th>\n",
       "      <th></th>\n",
       "    </tr>\n",
       "  </thead>\n",
       "  <tbody>\n",
       "    <tr>\n",
       "      <th>NEGATIVE</th>\n",
       "      <td>(unplayable, 3.98898404656)</td>\n",
       "      <td>(garbage, 3.62434093298)</td>\n",
       "      <td>(ugh, 2.99573227355)</td>\n",
       "      <td>(waste, 2.98946266054)</td>\n",
       "      <td>(disappointment, 2.84490938382)</td>\n",
       "      <td>(trash, 2.83321334406)</td>\n",
       "      <td>(ehhhh, 2.7080502011)</td>\n",
       "      <td>(underwhelming, 2.7080502011)</td>\n",
       "      <td>(worst, 2.69968195143)</td>\n",
       "      <td>(disappointing, 2.64552984412)</td>\n",
       "    </tr>\n",
       "    <tr>\n",
       "      <th>POSITIVE</th>\n",
       "      <td>(excelente, 4.45434729625)</td>\n",
       "      <td>(she, 4.45434729625)</td>\n",
       "      <td>(loving, 4.31748811354)</td>\n",
       "      <td>(five, 4.14906946191)</td>\n",
       "      <td>(four, 4.04305126783)</td>\n",
       "      <td>(classics, 3.93182563272)</td>\n",
       "      <td>(rocks, 3.86072971104)</td>\n",
       "      <td>(excellent, 3.84275537092)</td>\n",
       "      <td>(loves, 3.84160054113)</td>\n",
       "      <td>(outstanding, 3.79548918917)</td>\n",
       "    </tr>\n",
       "  </tbody>\n",
       "</table>\n",
       "</div>"
      ],
      "text/plain": [
       "                                          0                         1  \\\n",
       "binary_ratings                                                          \n",
       "NEGATIVE        (unplayable, 3.98898404656)  (garbage, 3.62434093298)   \n",
       "POSITIVE         (excelente, 4.45434729625)      (she, 4.45434729625)   \n",
       "\n",
       "                                      2                       3  \\\n",
       "binary_ratings                                                    \n",
       "NEGATIVE           (ugh, 2.99573227355)  (waste, 2.98946266054)   \n",
       "POSITIVE        (loving, 4.31748811354)   (five, 4.14906946191)   \n",
       "\n",
       "                                              4                          5  \\\n",
       "binary_ratings                                                               \n",
       "NEGATIVE        (disappointment, 2.84490938382)     (trash, 2.83321334406)   \n",
       "POSITIVE                  (four, 4.04305126783)  (classics, 3.93182563272)   \n",
       "\n",
       "                                     6                              7  \\\n",
       "binary_ratings                                                          \n",
       "NEGATIVE         (ehhhh, 2.7080502011)  (underwhelming, 2.7080502011)   \n",
       "POSITIVE        (rocks, 3.86072971104)     (excellent, 3.84275537092)   \n",
       "\n",
       "                                     8                               9  \n",
       "binary_ratings                                                          \n",
       "NEGATIVE        (worst, 2.69968195143)  (disappointing, 2.64552984412)  \n",
       "POSITIVE        (loves, 3.84160054113)    (outstanding, 3.79548918917)  "
      ]
     },
     "execution_count": 22,
     "metadata": {},
     "output_type": "execute_result"
    }
   ],
   "source": [
    "ratios"
   ]
  },
  {
   "cell_type": "markdown",
   "metadata": {},
   "source": [
    "#### Run network with review_ratings dataframe and fields"
   ]
  },
  {
   "cell_type": "code",
   "execution_count": 23,
   "metadata": {},
   "outputs": [
    {
     "name": "stdout",
     "output_type": "stream",
     "text": [
      "Progress:97.9% Speed(reviews/sec):5815. #Correct:73750 #Trained:87501 Training Accuracy:84.2%"
     ]
    }
   ],
   "source": [
    "mlp = run_network(review_ratings, \"summary\", \"binary_ratings\")"
   ]
  },
  {
   "cell_type": "markdown",
   "metadata": {},
   "source": [
    "#### Predict whether the \"good\" word is positive or negative"
   ]
  },
  {
   "cell_type": "code",
   "execution_count": 24,
   "metadata": {},
   "outputs": [
    {
     "data": {
      "text/plain": [
       "'POSITIVE'"
      ]
     },
     "execution_count": 24,
     "metadata": {},
     "output_type": "execute_result"
    }
   ],
   "source": [
    "mlp.predict(\"good\")"
   ]
  },
  {
   "cell_type": "markdown",
   "metadata": {},
   "source": [
    "#### Predict whether the \"Bad\" word is positive or negative"
   ]
  },
  {
   "cell_type": "code",
   "execution_count": 25,
   "metadata": {},
   "outputs": [
    {
     "data": {
      "text/plain": [
       "'NEGATIVE'"
      ]
     },
     "execution_count": 25,
     "metadata": {},
     "output_type": "execute_result"
    }
   ],
   "source": [
    "mlp.predict(\"Bad\")"
   ]
  },
  {
   "cell_type": "markdown",
   "metadata": {},
   "source": [
    "#### Predict \"unplayable\""
   ]
  },
  {
   "cell_type": "code",
   "execution_count": 26,
   "metadata": {},
   "outputs": [
    {
     "data": {
      "text/plain": [
       "'NEGATIVE'"
      ]
     },
     "execution_count": 26,
     "metadata": {},
     "output_type": "execute_result"
    }
   ],
   "source": [
    "mlp.predict(\"unplayable\")"
   ]
  },
  {
   "cell_type": "markdown",
   "metadata": {},
   "source": [
    "#### Predict \"excelente\""
   ]
  },
  {
   "cell_type": "code",
   "execution_count": 27,
   "metadata": {},
   "outputs": [
    {
     "data": {
      "text/plain": [
       "'POSITIVE'"
      ]
     },
     "execution_count": 27,
     "metadata": {},
     "output_type": "execute_result"
    }
   ],
   "source": [
    "mlp.predict(\"excelente\")"
   ]
  },
  {
   "cell_type": "markdown",
   "metadata": {},
   "source": [
    "#### Predict \"excel\""
   ]
  },
  {
   "cell_type": "code",
   "execution_count": 28,
   "metadata": {},
   "outputs": [
    {
     "data": {
      "text/plain": [
       "'POSITIVE'"
      ]
     },
     "execution_count": 28,
     "metadata": {},
     "output_type": "execute_result"
    }
   ],
   "source": [
    "mlp.predict(\"excel\")"
   ]
  },
  {
   "cell_type": "markdown",
   "metadata": {},
   "source": [
    "#### Predict \"playable\""
   ]
  },
  {
   "cell_type": "code",
   "execution_count": 29,
   "metadata": {},
   "outputs": [
    {
     "data": {
      "text/plain": [
       "'NEGATIVE'"
      ]
     },
     "execution_count": 29,
     "metadata": {},
     "output_type": "execute_result"
    }
   ],
   "source": [
    "mlp.predict(\"playable\")"
   ]
  },
  {
   "cell_type": "code",
   "execution_count": null,
   "metadata": {},
   "outputs": [],
   "source": []
  },
  {
   "cell_type": "code",
   "execution_count": null,
   "metadata": {},
   "outputs": [],
   "source": []
  }
 ],
 "metadata": {
  "kernelspec": {
   "display_name": "Python 2",
   "language": "python",
   "name": "python2"
  },
  "language_info": {
   "codemirror_mode": {
    "name": "ipython",
    "version": 2
   },
   "file_extension": ".py",
   "mimetype": "text/x-python",
   "name": "python",
   "nbconvert_exporter": "python",
   "pygments_lexer": "ipython2",
   "version": "2.7.10"
  }
 },
 "nbformat": 4,
 "nbformat_minor": 1
}
