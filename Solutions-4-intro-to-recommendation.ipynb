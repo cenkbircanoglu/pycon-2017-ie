{
 "cells": [
  {
   "cell_type": "code",
   "execution_count": 1,
   "metadata": {},
   "outputs": [],
   "source": [
    "%matplotlib inline\n",
    "import pandas as pd"
   ]
  },
  {
   "cell_type": "code",
   "execution_count": 2,
   "metadata": {},
   "outputs": [
    {
     "data": {
      "text/html": [
       "<style>body {\n",
       "    margin: 0;\n",
       "    font-family: Helvetica;\n",
       "}\n",
       "\n",
       "table.dataframe {\n",
       "    border-collapse: collapse;\n",
       "    border: none;\n",
       "}\n",
       "\n",
       "table.dataframe tr {\n",
       "    border: none;\n",
       "}\n",
       "\n",
       "table.dataframe td, table.dataframe th {\n",
       "    margin: 0;\n",
       "    border: 1px solid white;\n",
       "    padding-left: 0.25em;\n",
       "    padding-right: 0.25em;\n",
       "}\n",
       "\n",
       "table.dataframe th:not(:empty) {\n",
       "    background-color: #fec;\n",
       "    text-align: left;\n",
       "    font-weight: normal;\n",
       "}\n",
       "\n",
       "table.dataframe tr:nth-child(2) th:empty {\n",
       "    border-left: none;\n",
       "    border-right: 1px dashed #888;\n",
       "}\n",
       "\n",
       "table.dataframe td {\n",
       "    border: 2px solid #ccf;\n",
       "    background-color: #f4f4ff;\n",
       "}\n",
       "h3 {\n",
       "    color: white;\n",
       "    background-color: black;\n",
       "    padding: 0.5em;\n",
       "}</style>"
      ],
      "text/plain": [
       "<IPython.core.display.HTML object>"
      ]
     },
     "execution_count": 2,
     "metadata": {},
     "output_type": "execute_result"
    }
   ],
   "source": [
    "from IPython.core.display import HTML\n",
    "css = open('table.css').read() + open('notebook.css').read()\n",
    "HTML('<style>{}</style>'.format(css))"
   ]
  },
  {
   "cell_type": "code",
   "execution_count": 3,
   "metadata": {},
   "outputs": [
    {
     "data": {
      "text/html": [
       "<div>\n",
       "<style>\n",
       "    .dataframe thead tr:only-child th {\n",
       "        text-align: right;\n",
       "    }\n",
       "\n",
       "    .dataframe thead th {\n",
       "        text-align: left;\n",
       "    }\n",
       "\n",
       "    .dataframe tbody tr th {\n",
       "        vertical-align: top;\n",
       "    }\n",
       "</style>\n",
       "<table border=\"1\" class=\"dataframe\">\n",
       "  <thead>\n",
       "    <tr style=\"text-align: right;\">\n",
       "      <th></th>\n",
       "      <th>brand</th>\n",
       "      <th>categories</th>\n",
       "      <th>description</th>\n",
       "      <th>imUrl</th>\n",
       "      <th>price</th>\n",
       "      <th>productID</th>\n",
       "      <th>related</th>\n",
       "      <th>salesRank</th>\n",
       "      <th>title</th>\n",
       "    </tr>\n",
       "  </thead>\n",
       "  <tbody>\n",
       "    <tr>\n",
       "      <th>1012282</th>\n",
       "      <td>Dark Age Miniatures</td>\n",
       "      <td>[[Video Games, PC, Games]]</td>\n",
       "      <td>None</td>\n",
       "      <td>http://ecx.images-amazon.com/images/I/61IaJuP1...</td>\n",
       "      <td>31.23</td>\n",
       "      <td>0984529527</td>\n",
       "      <td>None</td>\n",
       "      <td>{'Toys &amp; Games': 751946}</td>\n",
       "      <td>Dark Age Apocalypse: Forcelists HC</td>\n",
       "    </tr>\n",
       "    <tr>\n",
       "      <th>1315355</th>\n",
       "      <td>None</td>\n",
       "      <td>[[Video Games, PC, Games]]</td>\n",
       "      <td>Microsoft's Flight Simulator X is now making i...</td>\n",
       "      <td>http://ecx.images-amazon.com/images/I/41TaIYT%...</td>\n",
       "      <td>27.64</td>\n",
       "      <td>1557556741</td>\n",
       "      <td>{'also_bought': ['B002JZH9E4'], 'buy_after_vie...</td>\n",
       "      <td>{'Video Games': 61369}</td>\n",
       "      <td>None</td>\n",
       "    </tr>\n",
       "    <tr>\n",
       "      <th>1321069</th>\n",
       "      <td>None</td>\n",
       "      <td>[[Video Games, PC, Games]]</td>\n",
       "      <td>CYBERPUNK VAMPIRE ROLE-PLAYING PC GAME SET IN ...</td>\n",
       "      <td>http://ecx.images-amazon.com/images/I/41HClAKt...</td>\n",
       "      <td>NaN</td>\n",
       "      <td>1558843477</td>\n",
       "      <td>None</td>\n",
       "      <td>{'Video Games': 56174}</td>\n",
       "      <td>None</td>\n",
       "    </tr>\n",
       "    <tr>\n",
       "      <th>1336988</th>\n",
       "      <td>None</td>\n",
       "      <td>[[Video Games, PC, Games]]</td>\n",
       "      <td>None</td>\n",
       "      <td>http://ecx.images-amazon.com/images/I/41PBCXQ3...</td>\n",
       "      <td>43.99</td>\n",
       "      <td>1563820412</td>\n",
       "      <td>None</td>\n",
       "      <td>{'Software': 47380}</td>\n",
       "      <td>None</td>\n",
       "    </tr>\n",
       "    <tr>\n",
       "      <th>1377319</th>\n",
       "      <td>Palladium Books</td>\n",
       "      <td>[[Video Games, Nintendo DS, Games]]</td>\n",
       "      <td>The Rifter is your doorway to unlimited imagin...</td>\n",
       "      <td>http://ecx.images-amazon.com/images/I/41r7cYfc...</td>\n",
       "      <td>9.55</td>\n",
       "      <td>1574571931</td>\n",
       "      <td>{'also_bought': ['157457194X', '1574571923', '...</td>\n",
       "      <td>{'Toys &amp; Games': 594770}</td>\n",
       "      <td>Rifts RPG: The Rifter&amp;reg; #56</td>\n",
       "    </tr>\n",
       "  </tbody>\n",
       "</table>\n",
       "</div>"
      ],
      "text/plain": [
       "                       brand                           categories  \\\n",
       "1012282  Dark Age Miniatures           [[Video Games, PC, Games]]   \n",
       "1315355                 None           [[Video Games, PC, Games]]   \n",
       "1321069                 None           [[Video Games, PC, Games]]   \n",
       "1336988                 None           [[Video Games, PC, Games]]   \n",
       "1377319      Palladium Books  [[Video Games, Nintendo DS, Games]]   \n",
       "\n",
       "                                               description  \\\n",
       "1012282                                               None   \n",
       "1315355  Microsoft's Flight Simulator X is now making i...   \n",
       "1321069  CYBERPUNK VAMPIRE ROLE-PLAYING PC GAME SET IN ...   \n",
       "1336988                                               None   \n",
       "1377319  The Rifter is your doorway to unlimited imagin...   \n",
       "\n",
       "                                                     imUrl  price   productID  \\\n",
       "1012282  http://ecx.images-amazon.com/images/I/61IaJuP1...  31.23  0984529527   \n",
       "1315355  http://ecx.images-amazon.com/images/I/41TaIYT%...  27.64  1557556741   \n",
       "1321069  http://ecx.images-amazon.com/images/I/41HClAKt...    NaN  1558843477   \n",
       "1336988  http://ecx.images-amazon.com/images/I/41PBCXQ3...  43.99  1563820412   \n",
       "1377319  http://ecx.images-amazon.com/images/I/41r7cYfc...   9.55  1574571931   \n",
       "\n",
       "                                                   related  \\\n",
       "1012282                                               None   \n",
       "1315355  {'also_bought': ['B002JZH9E4'], 'buy_after_vie...   \n",
       "1321069                                               None   \n",
       "1336988                                               None   \n",
       "1377319  {'also_bought': ['157457194X', '1574571923', '...   \n",
       "\n",
       "                        salesRank                               title  \n",
       "1012282  {'Toys & Games': 751946}  Dark Age Apocalypse: Forcelists HC  \n",
       "1315355    {'Video Games': 61369}                                None  \n",
       "1321069    {'Video Games': 56174}                                None  \n",
       "1336988       {'Software': 47380}                                None  \n",
       "1377319  {'Toys & Games': 594770}      Rifts RPG: The Rifter&reg; #56  "
      ]
     },
     "execution_count": 3,
     "metadata": {},
     "output_type": "execute_result"
    }
   ],
   "source": [
    "video_games = pd.read_json(\"videogames.json\")\n",
    "video_games.head(5)"
   ]
  },
  {
   "cell_type": "code",
   "execution_count": 4,
   "metadata": {},
   "outputs": [
    {
     "data": {
      "text/html": [
       "<div>\n",
       "<style>\n",
       "    .dataframe thead tr:only-child th {\n",
       "        text-align: right;\n",
       "    }\n",
       "\n",
       "    .dataframe thead th {\n",
       "        text-align: left;\n",
       "    }\n",
       "\n",
       "    .dataframe tbody tr th {\n",
       "        vertical-align: top;\n",
       "    }\n",
       "</style>\n",
       "<table border=\"1\" class=\"dataframe\">\n",
       "  <thead>\n",
       "    <tr style=\"text-align: right;\">\n",
       "      <th></th>\n",
       "      <th>userID</th>\n",
       "      <th>productID</th>\n",
       "      <th>ratings</th>\n",
       "      <th>timestamp</th>\n",
       "    </tr>\n",
       "  </thead>\n",
       "  <tbody>\n",
       "    <tr>\n",
       "      <th>0</th>\n",
       "      <td>A24SSUT5CSW8BH</td>\n",
       "      <td>0078764343</td>\n",
       "      <td>5.0</td>\n",
       "      <td>1377302400</td>\n",
       "    </tr>\n",
       "    <tr>\n",
       "      <th>1</th>\n",
       "      <td>AK3V0HEBJMQ7J</td>\n",
       "      <td>0078764343</td>\n",
       "      <td>4.0</td>\n",
       "      <td>1372896000</td>\n",
       "    </tr>\n",
       "    <tr>\n",
       "      <th>2</th>\n",
       "      <td>A10BECPH7W8HM7</td>\n",
       "      <td>043933702X</td>\n",
       "      <td>5.0</td>\n",
       "      <td>1404950400</td>\n",
       "    </tr>\n",
       "    <tr>\n",
       "      <th>3</th>\n",
       "      <td>A2PRV9OULX1TWP</td>\n",
       "      <td>043933702X</td>\n",
       "      <td>5.0</td>\n",
       "      <td>1386115200</td>\n",
       "    </tr>\n",
       "    <tr>\n",
       "      <th>4</th>\n",
       "      <td>AE7GUHCDQQ4UI</td>\n",
       "      <td>043933702X</td>\n",
       "      <td>1.0</td>\n",
       "      <td>1366156800</td>\n",
       "    </tr>\n",
       "  </tbody>\n",
       "</table>\n",
       "</div>"
      ],
      "text/plain": [
       "           userID   productID  ratings   timestamp\n",
       "0  A24SSUT5CSW8BH  0078764343      5.0  1377302400\n",
       "1   AK3V0HEBJMQ7J  0078764343      4.0  1372896000\n",
       "2  A10BECPH7W8HM7  043933702X      5.0  1404950400\n",
       "3  A2PRV9OULX1TWP  043933702X      5.0  1386115200\n",
       "4   AE7GUHCDQQ4UI  043933702X      1.0  1366156800"
      ]
     },
     "execution_count": 4,
     "metadata": {},
     "output_type": "execute_result"
    }
   ],
   "source": [
    "ratings = pd.read_csv(\"ratings.csv\")\n",
    "ratings.head(5)"
   ]
  },
  {
   "cell_type": "markdown",
   "metadata": {},
   "source": [
    "#### Filter out video games which have no title"
   ]
  },
  {
   "cell_type": "code",
   "execution_count": 5,
   "metadata": {},
   "outputs": [],
   "source": [
    "video_games = video_games[~video_games.title.isnull()]"
   ]
  },
  {
   "cell_type": "markdown",
   "metadata": {},
   "source": [
    "#### Filter out video games which have less than 5 ratings"
   ]
  },
  {
   "cell_type": "code",
   "execution_count": 6,
   "metadata": {},
   "outputs": [],
   "source": [
    "productID_counts = ratings['productID'].value_counts()\n",
    "ratings = ratings[ratings['productID'].isin(productID_counts[productID_counts >= 5].index)]"
   ]
  },
  {
   "cell_type": "markdown",
   "metadata": {},
   "source": [
    "#### Filter out users which have less than 5 ratings"
   ]
  },
  {
   "cell_type": "code",
   "execution_count": 7,
   "metadata": {},
   "outputs": [],
   "source": [
    "userID_counts = ratings['userID'].value_counts()\n",
    "ratings = ratings[ratings['userID'].isin(userID_counts[userID_counts >= 5].index)]"
   ]
  },
  {
   "cell_type": "markdown",
   "metadata": {},
   "source": [
    "#### Merge ratings and videogames dataframe on productID and set to df dataframe"
   ]
  },
  {
   "cell_type": "code",
   "execution_count": 8,
   "metadata": {},
   "outputs": [
    {
     "data": {
      "text/plain": [
       "(6834, 12)"
      ]
     },
     "execution_count": 8,
     "metadata": {},
     "output_type": "execute_result"
    }
   ],
   "source": [
    "df = pd.merge(video_games,ratings, on=\"productID\")\n",
    "df.head(5)\n",
    "df.shape"
   ]
  },
  {
   "cell_type": "markdown",
   "metadata": {},
   "source": [
    "#### Create a pivot matrix with index userID, columns productID and values ratings"
   ]
  },
  {
   "cell_type": "code",
   "execution_count": 9,
   "metadata": {},
   "outputs": [
    {
     "data": {
      "text/html": [
       "<div>\n",
       "<style>\n",
       "    .dataframe thead tr:only-child th {\n",
       "        text-align: right;\n",
       "    }\n",
       "\n",
       "    .dataframe thead th {\n",
       "        text-align: left;\n",
       "    }\n",
       "\n",
       "    .dataframe tbody tr th {\n",
       "        vertical-align: top;\n",
       "    }\n",
       "</style>\n",
       "<table border=\"1\" class=\"dataframe\">\n",
       "  <thead>\n",
       "    <tr style=\"text-align: right;\">\n",
       "      <th>productID</th>\n",
       "      <th>9572132148</th>\n",
       "      <th>9861019731</th>\n",
       "      <th>9882155456</th>\n",
       "      <th>B000007VDN</th>\n",
       "      <th>B00000JBL1</th>\n",
       "      <th>B00000JDDR</th>\n",
       "      <th>B00000JDDY</th>\n",
       "      <th>B00000JDFT</th>\n",
       "      <th>B00000JKMB</th>\n",
       "      <th>B00000K11D</th>\n",
       "      <th>...</th>\n",
       "      <th>B00ILALMZS</th>\n",
       "      <th>B00IRHE892</th>\n",
       "      <th>B00ISW0TGW</th>\n",
       "      <th>B00IXHP3A4</th>\n",
       "      <th>B00IXHP4IK</th>\n",
       "      <th>B00IY46KR6</th>\n",
       "      <th>B00JF2FAP4</th>\n",
       "      <th>B00JF2FFR2</th>\n",
       "      <th>B00JM61264</th>\n",
       "      <th>B00KGGJPX6</th>\n",
       "    </tr>\n",
       "    <tr>\n",
       "      <th>userID</th>\n",
       "      <th></th>\n",
       "      <th></th>\n",
       "      <th></th>\n",
       "      <th></th>\n",
       "      <th></th>\n",
       "      <th></th>\n",
       "      <th></th>\n",
       "      <th></th>\n",
       "      <th></th>\n",
       "      <th></th>\n",
       "      <th></th>\n",
       "      <th></th>\n",
       "      <th></th>\n",
       "      <th></th>\n",
       "      <th></th>\n",
       "      <th></th>\n",
       "      <th></th>\n",
       "      <th></th>\n",
       "      <th></th>\n",
       "      <th></th>\n",
       "      <th></th>\n",
       "    </tr>\n",
       "  </thead>\n",
       "  <tbody>\n",
       "    <tr>\n",
       "      <th>A01803182IUSFNIFF5984</th>\n",
       "      <td>NaN</td>\n",
       "      <td>NaN</td>\n",
       "      <td>NaN</td>\n",
       "      <td>NaN</td>\n",
       "      <td>NaN</td>\n",
       "      <td>NaN</td>\n",
       "      <td>NaN</td>\n",
       "      <td>NaN</td>\n",
       "      <td>NaN</td>\n",
       "      <td>NaN</td>\n",
       "      <td>...</td>\n",
       "      <td>NaN</td>\n",
       "      <td>NaN</td>\n",
       "      <td>NaN</td>\n",
       "      <td>NaN</td>\n",
       "      <td>NaN</td>\n",
       "      <td>NaN</td>\n",
       "      <td>NaN</td>\n",
       "      <td>NaN</td>\n",
       "      <td>NaN</td>\n",
       "      <td>NaN</td>\n",
       "    </tr>\n",
       "    <tr>\n",
       "      <th>A05026511FQMVPVJH3KP8</th>\n",
       "      <td>NaN</td>\n",
       "      <td>NaN</td>\n",
       "      <td>NaN</td>\n",
       "      <td>NaN</td>\n",
       "      <td>NaN</td>\n",
       "      <td>NaN</td>\n",
       "      <td>NaN</td>\n",
       "      <td>NaN</td>\n",
       "      <td>NaN</td>\n",
       "      <td>NaN</td>\n",
       "      <td>...</td>\n",
       "      <td>NaN</td>\n",
       "      <td>NaN</td>\n",
       "      <td>NaN</td>\n",
       "      <td>NaN</td>\n",
       "      <td>NaN</td>\n",
       "      <td>NaN</td>\n",
       "      <td>NaN</td>\n",
       "      <td>NaN</td>\n",
       "      <td>NaN</td>\n",
       "      <td>NaN</td>\n",
       "    </tr>\n",
       "    <tr>\n",
       "      <th>A0607295133OZ2DIJW5P8</th>\n",
       "      <td>NaN</td>\n",
       "      <td>NaN</td>\n",
       "      <td>NaN</td>\n",
       "      <td>NaN</td>\n",
       "      <td>NaN</td>\n",
       "      <td>NaN</td>\n",
       "      <td>NaN</td>\n",
       "      <td>NaN</td>\n",
       "      <td>NaN</td>\n",
       "      <td>NaN</td>\n",
       "      <td>...</td>\n",
       "      <td>NaN</td>\n",
       "      <td>NaN</td>\n",
       "      <td>NaN</td>\n",
       "      <td>NaN</td>\n",
       "      <td>NaN</td>\n",
       "      <td>NaN</td>\n",
       "      <td>NaN</td>\n",
       "      <td>NaN</td>\n",
       "      <td>NaN</td>\n",
       "      <td>NaN</td>\n",
       "    </tr>\n",
       "    <tr>\n",
       "      <th>A100JOT1GQ363B</th>\n",
       "      <td>NaN</td>\n",
       "      <td>NaN</td>\n",
       "      <td>NaN</td>\n",
       "      <td>NaN</td>\n",
       "      <td>NaN</td>\n",
       "      <td>NaN</td>\n",
       "      <td>NaN</td>\n",
       "      <td>NaN</td>\n",
       "      <td>NaN</td>\n",
       "      <td>NaN</td>\n",
       "      <td>...</td>\n",
       "      <td>NaN</td>\n",
       "      <td>NaN</td>\n",
       "      <td>NaN</td>\n",
       "      <td>NaN</td>\n",
       "      <td>NaN</td>\n",
       "      <td>NaN</td>\n",
       "      <td>NaN</td>\n",
       "      <td>NaN</td>\n",
       "      <td>NaN</td>\n",
       "      <td>NaN</td>\n",
       "    </tr>\n",
       "    <tr>\n",
       "      <th>A100O5QLORBZRO</th>\n",
       "      <td>NaN</td>\n",
       "      <td>NaN</td>\n",
       "      <td>5.0</td>\n",
       "      <td>NaN</td>\n",
       "      <td>NaN</td>\n",
       "      <td>NaN</td>\n",
       "      <td>NaN</td>\n",
       "      <td>NaN</td>\n",
       "      <td>NaN</td>\n",
       "      <td>NaN</td>\n",
       "      <td>...</td>\n",
       "      <td>NaN</td>\n",
       "      <td>NaN</td>\n",
       "      <td>NaN</td>\n",
       "      <td>NaN</td>\n",
       "      <td>NaN</td>\n",
       "      <td>NaN</td>\n",
       "      <td>NaN</td>\n",
       "      <td>NaN</td>\n",
       "      <td>NaN</td>\n",
       "      <td>NaN</td>\n",
       "    </tr>\n",
       "  </tbody>\n",
       "</table>\n",
       "<p>5 rows × 720 columns</p>\n",
       "</div>"
      ],
      "text/plain": [
       "productID              9572132148  9861019731  9882155456  B000007VDN  \\\n",
       "userID                                                                  \n",
       "A01803182IUSFNIFF5984         NaN         NaN         NaN         NaN   \n",
       "A05026511FQMVPVJH3KP8         NaN         NaN         NaN         NaN   \n",
       "A0607295133OZ2DIJW5P8         NaN         NaN         NaN         NaN   \n",
       "A100JOT1GQ363B                NaN         NaN         NaN         NaN   \n",
       "A100O5QLORBZRO                NaN         NaN         5.0         NaN   \n",
       "\n",
       "productID              B00000JBL1  B00000JDDR  B00000JDDY  B00000JDFT  \\\n",
       "userID                                                                  \n",
       "A01803182IUSFNIFF5984         NaN         NaN         NaN         NaN   \n",
       "A05026511FQMVPVJH3KP8         NaN         NaN         NaN         NaN   \n",
       "A0607295133OZ2DIJW5P8         NaN         NaN         NaN         NaN   \n",
       "A100JOT1GQ363B                NaN         NaN         NaN         NaN   \n",
       "A100O5QLORBZRO                NaN         NaN         NaN         NaN   \n",
       "\n",
       "productID              B00000JKMB  B00000K11D     ...      B00ILALMZS  \\\n",
       "userID                                            ...                   \n",
       "A01803182IUSFNIFF5984         NaN         NaN     ...             NaN   \n",
       "A05026511FQMVPVJH3KP8         NaN         NaN     ...             NaN   \n",
       "A0607295133OZ2DIJW5P8         NaN         NaN     ...             NaN   \n",
       "A100JOT1GQ363B                NaN         NaN     ...             NaN   \n",
       "A100O5QLORBZRO                NaN         NaN     ...             NaN   \n",
       "\n",
       "productID              B00IRHE892  B00ISW0TGW  B00IXHP3A4  B00IXHP4IK  \\\n",
       "userID                                                                  \n",
       "A01803182IUSFNIFF5984         NaN         NaN         NaN         NaN   \n",
       "A05026511FQMVPVJH3KP8         NaN         NaN         NaN         NaN   \n",
       "A0607295133OZ2DIJW5P8         NaN         NaN         NaN         NaN   \n",
       "A100JOT1GQ363B                NaN         NaN         NaN         NaN   \n",
       "A100O5QLORBZRO                NaN         NaN         NaN         NaN   \n",
       "\n",
       "productID              B00IY46KR6  B00JF2FAP4  B00JF2FFR2  B00JM61264  \\\n",
       "userID                                                                  \n",
       "A01803182IUSFNIFF5984         NaN         NaN         NaN         NaN   \n",
       "A05026511FQMVPVJH3KP8         NaN         NaN         NaN         NaN   \n",
       "A0607295133OZ2DIJW5P8         NaN         NaN         NaN         NaN   \n",
       "A100JOT1GQ363B                NaN         NaN         NaN         NaN   \n",
       "A100O5QLORBZRO                NaN         NaN         NaN         NaN   \n",
       "\n",
       "productID              B00KGGJPX6  \n",
       "userID                             \n",
       "A01803182IUSFNIFF5984         NaN  \n",
       "A05026511FQMVPVJH3KP8         NaN  \n",
       "A0607295133OZ2DIJW5P8         NaN  \n",
       "A100JOT1GQ363B                NaN  \n",
       "A100O5QLORBZRO                NaN  \n",
       "\n",
       "[5 rows x 720 columns]"
      ]
     },
     "execution_count": 9,
     "metadata": {},
     "output_type": "execute_result"
    }
   ],
   "source": [
    "ratings_pivot = df.pivot(index='userID', columns='productID').ratings\n",
    "ratings_pivot.head(5)"
   ]
  },
  {
   "cell_type": "markdown",
   "metadata": {},
   "source": [
    "#### Set columns to productID variable"
   ]
  },
  {
   "cell_type": "code",
   "execution_count": 10,
   "metadata": {},
   "outputs": [
    {
     "data": {
      "text/plain": [
       "Index(['9572132148', '9861019731', '9882155456', 'B000007VDN', 'B00000JBL1',\n",
       "       'B00000JDDR', 'B00000JDDY', 'B00000JDFT', 'B00000JKMB', 'B00000K11D',\n",
       "       ...\n",
       "       'B00ILALMZS', 'B00IRHE892', 'B00ISW0TGW', 'B00IXHP3A4', 'B00IXHP4IK',\n",
       "       'B00IY46KR6', 'B00JF2FAP4', 'B00JF2FFR2', 'B00JM61264', 'B00KGGJPX6'],\n",
       "      dtype='object', name='productID', length=720)"
      ]
     },
     "execution_count": 10,
     "metadata": {},
     "output_type": "execute_result"
    }
   ],
   "source": [
    "productID = ratings_pivot.columns\n",
    "productID"
   ]
  },
  {
   "cell_type": "markdown",
   "metadata": {},
   "source": [
    "#### Set index to userID variable"
   ]
  },
  {
   "cell_type": "code",
   "execution_count": 11,
   "metadata": {},
   "outputs": [
    {
     "data": {
      "text/plain": [
       "Index(['A01803182IUSFNIFF5984', 'A05026511FQMVPVJH3KP8',\n",
       "       'A0607295133OZ2DIJW5P8', 'A100JOT1GQ363B', 'A100O5QLORBZRO',\n",
       "       'A102IYTHZ0FJ3I', 'A102MU6ZC9H1N6', 'A102R0714VSMB', 'A103B6MQ5IF2BK',\n",
       "       'A10566TEP2SO6I',\n",
       "       ...\n",
       "       'AZQBBG4HIA0CQ', 'AZQHYOURLCLZH', 'AZQPD0AKFKYK1', 'AZTK5F3MOH16Q',\n",
       "       'AZUDF2ZSV6KK5', 'AZVCNOOQK36DH', 'AZYIAWJR9972L', 'AZYOVGJLQ03ML',\n",
       "       'AZZ1KF8RAO1BR', 'AZZNK89PXD006'],\n",
       "      dtype='object', name='userID', length=4795)"
      ]
     },
     "execution_count": 11,
     "metadata": {},
     "output_type": "execute_result"
    }
   ],
   "source": [
    "userID = ratings_pivot.index\n",
    "userID"
   ]
  },
  {
   "cell_type": "markdown",
   "metadata": {},
   "source": [
    "#### Create an average ratings and ratings count for each productID"
   ]
  },
  {
   "cell_type": "code",
   "execution_count": 12,
   "metadata": {},
   "outputs": [
    {
     "data": {
      "text/html": [
       "<div>\n",
       "<style>\n",
       "    .dataframe thead tr:only-child th {\n",
       "        text-align: right;\n",
       "    }\n",
       "\n",
       "    .dataframe thead th {\n",
       "        text-align: left;\n",
       "    }\n",
       "\n",
       "    .dataframe tbody tr th {\n",
       "        vertical-align: top;\n",
       "    }\n",
       "</style>\n",
       "<table border=\"1\" class=\"dataframe\">\n",
       "  <thead>\n",
       "    <tr style=\"text-align: right;\">\n",
       "      <th></th>\n",
       "      <th>ratings</th>\n",
       "      <th>ratingCount</th>\n",
       "    </tr>\n",
       "    <tr>\n",
       "      <th>productID</th>\n",
       "      <th></th>\n",
       "      <th></th>\n",
       "    </tr>\n",
       "  </thead>\n",
       "  <tbody>\n",
       "    <tr>\n",
       "      <th>B0009VXBAQ</th>\n",
       "      <td>4.467775</td>\n",
       "      <td>481</td>\n",
       "    </tr>\n",
       "    <tr>\n",
       "      <th>B003VANOFY</th>\n",
       "      <td>3.984733</td>\n",
       "      <td>131</td>\n",
       "    </tr>\n",
       "    <tr>\n",
       "      <th>B004QRKWLA</th>\n",
       "      <td>4.639344</td>\n",
       "      <td>122</td>\n",
       "    </tr>\n",
       "    <tr>\n",
       "      <th>B002J9GDXI</th>\n",
       "      <td>4.356522</td>\n",
       "      <td>115</td>\n",
       "    </tr>\n",
       "    <tr>\n",
       "      <th>B002I0JZOC</th>\n",
       "      <td>4.527778</td>\n",
       "      <td>108</td>\n",
       "    </tr>\n",
       "  </tbody>\n",
       "</table>\n",
       "</div>"
      ],
      "text/plain": [
       "             ratings  ratingCount\n",
       "productID                        \n",
       "B0009VXBAQ  4.467775          481\n",
       "B003VANOFY  3.984733          131\n",
       "B004QRKWLA  4.639344          122\n",
       "B002J9GDXI  4.356522          115\n",
       "B002I0JZOC  4.527778          108"
      ]
     },
     "execution_count": 12,
     "metadata": {},
     "output_type": "execute_result"
    }
   ],
   "source": [
    "average_rating = pd.DataFrame(df.groupby('productID')['ratings'].mean())\n",
    "average_rating['ratingCount'] = pd.DataFrame(df.groupby('productID')['ratings'].count())\n",
    "average_rating.sort_values('ratingCount', ascending=False).head()"
   ]
  },
  {
   "cell_type": "markdown",
   "metadata": {},
   "source": [
    "#### Select video game with id of B0015AARJI and find similars from pivot"
   ]
  },
  {
   "cell_type": "code",
   "execution_count": 13,
   "metadata": {},
   "outputs": [
    {
     "name": "stderr",
     "output_type": "stream",
     "text": [
      "/Users/cenk/.pyenv/versions/3.6.3/lib/python3.6/site-packages/numpy/lib/function_base.py:3159: RuntimeWarning: Degrees of freedom <= 0 for slice\n",
      "  c = cov(x, y, rowvar)\n",
      "/Users/cenk/.pyenv/versions/3.6.3/lib/python3.6/site-packages/numpy/lib/function_base.py:3093: RuntimeWarning: divide by zero encountered in double_scalars\n",
      "  c *= 1. / np.float64(fact)\n"
     ]
    },
    {
     "data": {
      "text/plain": [
       "productID\n",
       "9572132148   NaN\n",
       "9861019731   NaN\n",
       "9882155456   NaN\n",
       "B000007VDN   NaN\n",
       "B00000JBL1   NaN\n",
       "dtype: float64"
      ]
     },
     "execution_count": 13,
     "metadata": {},
     "output_type": "execute_result"
    }
   ],
   "source": [
    "assasing_creed_ratings = ratings_pivot['B002I0JZOC']\n",
    "similar2video_games = ratings_pivot.corrwith(assasing_creed_ratings)\n",
    "similar2video_games.head(5)"
   ]
  },
  {
   "cell_type": "markdown",
   "metadata": {},
   "source": [
    "#### Create a dataframe with pearsonR datas and drop NaNs"
   ]
  },
  {
   "cell_type": "code",
   "execution_count": 14,
   "metadata": {},
   "outputs": [],
   "source": [
    "corr_assasin_creed = pd.DataFrame(similar2video_games, columns=['pearsonR']).dropna()"
   ]
  },
  {
   "cell_type": "markdown",
   "metadata": {},
   "source": [
    "#### Join corr_bones and ratingsCounts"
   ]
  },
  {
   "cell_type": "code",
   "execution_count": 15,
   "metadata": {},
   "outputs": [
    {
     "data": {
      "text/html": [
       "<div>\n",
       "<style>\n",
       "    .dataframe thead tr:only-child th {\n",
       "        text-align: right;\n",
       "    }\n",
       "\n",
       "    .dataframe thead th {\n",
       "        text-align: left;\n",
       "    }\n",
       "\n",
       "    .dataframe tbody tr th {\n",
       "        vertical-align: top;\n",
       "    }\n",
       "</style>\n",
       "<table border=\"1\" class=\"dataframe\">\n",
       "  <thead>\n",
       "    <tr style=\"text-align: right;\">\n",
       "      <th></th>\n",
       "      <th>pearsonR</th>\n",
       "      <th>ratingCount</th>\n",
       "    </tr>\n",
       "    <tr>\n",
       "      <th>productID</th>\n",
       "      <th></th>\n",
       "      <th></th>\n",
       "    </tr>\n",
       "  </thead>\n",
       "  <tbody>\n",
       "    <tr>\n",
       "      <th>B002I0JZOC</th>\n",
       "      <td>1.000000</td>\n",
       "      <td>108</td>\n",
       "    </tr>\n",
       "    <tr>\n",
       "      <th>B000LEFKXC</th>\n",
       "      <td>1.000000</td>\n",
       "      <td>29</td>\n",
       "    </tr>\n",
       "    <tr>\n",
       "      <th>B0009VXBAQ</th>\n",
       "      <td>-0.944911</td>\n",
       "      <td>481</td>\n",
       "    </tr>\n",
       "  </tbody>\n",
       "</table>\n",
       "</div>"
      ],
      "text/plain": [
       "            pearsonR  ratingCount\n",
       "productID                        \n",
       "B002I0JZOC  1.000000          108\n",
       "B000LEFKXC  1.000000           29\n",
       "B0009VXBAQ -0.944911          481"
      ]
     },
     "execution_count": 15,
     "metadata": {},
     "output_type": "execute_result"
    }
   ],
   "source": [
    "corr_summary = corr_assasin_creed.join(average_rating['ratingCount'])\n",
    "corr_summary[corr_summary['ratingCount']>=5].sort_values('pearsonR', ascending=False).head(10)"
   ]
  },
  {
   "cell_type": "markdown",
   "metadata": {},
   "source": [
    "#### Get the name of the video games?"
   ]
  },
  {
   "cell_type": "code",
   "execution_count": 16,
   "metadata": {},
   "outputs": [
    {
     "data": {
      "text/plain": [
       "4207281    Assassin's Creed III Liberation PlayStation Vi...\n",
       "Name: title, dtype: object"
      ]
     },
     "execution_count": 16,
     "metadata": {},
     "output_type": "execute_result"
    }
   ],
   "source": [
    "video_games[video_games[\"productID\"] == \"B002I0JZOC\"].title"
   ]
  },
  {
   "cell_type": "markdown",
   "metadata": {},
   "source": [
    "#### Check if out recommendations in related column of dataset"
   ]
  },
  {
   "cell_type": "code",
   "execution_count": 17,
   "metadata": {},
   "outputs": [
    {
     "data": {
      "text/html": [
       "<div>\n",
       "<style>\n",
       "    .dataframe thead tr:only-child th {\n",
       "        text-align: right;\n",
       "    }\n",
       "\n",
       "    .dataframe thead th {\n",
       "        text-align: left;\n",
       "    }\n",
       "\n",
       "    .dataframe tbody tr th {\n",
       "        vertical-align: top;\n",
       "    }\n",
       "</style>\n",
       "<table border=\"1\" class=\"dataframe\">\n",
       "  <thead>\n",
       "    <tr style=\"text-align: right;\">\n",
       "      <th></th>\n",
       "      <th>brand</th>\n",
       "      <th>categories</th>\n",
       "      <th>description</th>\n",
       "      <th>imUrl</th>\n",
       "      <th>price</th>\n",
       "      <th>productID</th>\n",
       "      <th>related</th>\n",
       "      <th>salesRank</th>\n",
       "      <th>title</th>\n",
       "    </tr>\n",
       "  </thead>\n",
       "  <tbody>\n",
       "    <tr>\n",
       "      <th>2485185</th>\n",
       "      <td>None</td>\n",
       "      <td>[[Video Games, Wii]]</td>\n",
       "      <td></td>\n",
       "      <td>http://ecx.images-amazon.com/images/I/41xM31Qi...</td>\n",
       "      <td>29.99</td>\n",
       "      <td>B0009VXBAQ</td>\n",
       "      <td>{'also_bought': ['B000FQ9R4E', 'B002672Z80', '...</td>\n",
       "      <td>{'Video Games': 360}</td>\n",
       "      <td>Wii</td>\n",
       "    </tr>\n",
       "    <tr>\n",
       "      <th>2894078</th>\n",
       "      <td>General</td>\n",
       "      <td>[[Electronics, Computers &amp; Accessories, Cables...</td>\n",
       "      <td>Data &amp; Power USB Cable for Sony PSP</td>\n",
       "      <td>http://ecx.images-amazon.com/images/I/41q3EMWZ...</td>\n",
       "      <td>5.23</td>\n",
       "      <td>B000LEFKXC</td>\n",
       "      <td>{'also_bought': ['B000ASBKHE', 'B007ZH9OFI', '...</td>\n",
       "      <td>{'Video Games': 2209}</td>\n",
       "      <td>Data &amp;amp; Power USB Cable for Sony PSP</td>\n",
       "    </tr>\n",
       "    <tr>\n",
       "      <th>4207281</th>\n",
       "      <td>Sony</td>\n",
       "      <td>[[Video Games, PlayStation Vita, Games]]</td>\n",
       "      <td></td>\n",
       "      <td>http://ecx.images-amazon.com/images/I/51DmnCeF...</td>\n",
       "      <td>399.99</td>\n",
       "      <td>B002I0JZOC</td>\n",
       "      <td>{'also_bought': ['B006JKASCK', 'B0050SW8OS', '...</td>\n",
       "      <td>{'Video Games': 2721}</td>\n",
       "      <td>Assassin's Creed III Liberation PlayStation Vi...</td>\n",
       "    </tr>\n",
       "  </tbody>\n",
       "</table>\n",
       "</div>"
      ],
      "text/plain": [
       "           brand                                         categories  \\\n",
       "2485185     None                               [[Video Games, Wii]]   \n",
       "2894078  General  [[Electronics, Computers & Accessories, Cables...   \n",
       "4207281     Sony           [[Video Games, PlayStation Vita, Games]]   \n",
       "\n",
       "                                 description  \\\n",
       "2485185                                        \n",
       "2894078  Data & Power USB Cable for Sony PSP   \n",
       "4207281                                        \n",
       "\n",
       "                                                     imUrl   price  \\\n",
       "2485185  http://ecx.images-amazon.com/images/I/41xM31Qi...   29.99   \n",
       "2894078  http://ecx.images-amazon.com/images/I/41q3EMWZ...    5.23   \n",
       "4207281  http://ecx.images-amazon.com/images/I/51DmnCeF...  399.99   \n",
       "\n",
       "          productID                                            related  \\\n",
       "2485185  B0009VXBAQ  {'also_bought': ['B000FQ9R4E', 'B002672Z80', '...   \n",
       "2894078  B000LEFKXC  {'also_bought': ['B000ASBKHE', 'B007ZH9OFI', '...   \n",
       "4207281  B002I0JZOC  {'also_bought': ['B006JKASCK', 'B0050SW8OS', '...   \n",
       "\n",
       "                     salesRank  \\\n",
       "2485185   {'Video Games': 360}   \n",
       "2894078  {'Video Games': 2209}   \n",
       "4207281  {'Video Games': 2721}   \n",
       "\n",
       "                                                     title  \n",
       "2485185                                                Wii  \n",
       "2894078            Data &amp; Power USB Cable for Sony PSP  \n",
       "4207281  Assassin's Creed III Liberation PlayStation Vi...  "
      ]
     },
     "execution_count": 17,
     "metadata": {},
     "output_type": "execute_result"
    }
   ],
   "source": [
    "productIDs = corr_summary[corr_summary['ratingCount']>=5].sort_values('pearsonR', ascending=False).index.tolist()\n",
    "video_games[video_games[\"productID\"].isin(productIDs)]"
   ]
  },
  {
   "cell_type": "code",
   "execution_count": null,
   "metadata": {},
   "outputs": [],
   "source": []
  },
  {
   "cell_type": "code",
   "execution_count": null,
   "metadata": {},
   "outputs": [],
   "source": []
  },
  {
   "cell_type": "code",
   "execution_count": null,
   "metadata": {},
   "outputs": [],
   "source": []
  },
  {
   "cell_type": "code",
   "execution_count": null,
   "metadata": {},
   "outputs": [],
   "source": []
  },
  {
   "cell_type": "code",
   "execution_count": null,
   "metadata": {},
   "outputs": [],
   "source": []
  }
 ],
 "metadata": {
  "kernelspec": {
   "display_name": "Python 2",
   "language": "python",
   "name": "python2"
  },
  "language_info": {
   "codemirror_mode": {
    "name": "ipython",
    "version": 2
   },
   "file_extension": ".py",
   "mimetype": "text/x-python",
   "name": "python",
   "nbconvert_exporter": "python",
   "pygments_lexer": "ipython2",
   "version": "2.7.10"
  }
 },
 "nbformat": 4,
 "nbformat_minor": 1
}
