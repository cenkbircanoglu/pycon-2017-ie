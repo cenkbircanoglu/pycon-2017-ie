{
 "cells": [
  {
   "cell_type": "code",
   "execution_count": 1,
   "metadata": {},
   "outputs": [],
   "source": [
    "# Import app\n",
    "from celery_basics import app\n",
    "from celery_basics import add\n",
    "from celery_basics import make_pi\n",
    "from celery_basics import apply_function\n",
    "from celery_basics import apply_counter"
   ]
  },
  {
   "cell_type": "markdown",
   "metadata": {},
   "source": [
    "#### Sum 1 to 2"
   ]
  },
  {
   "cell_type": "code",
   "execution_count": 2,
   "metadata": {},
   "outputs": [
    {
     "data": {
      "text/plain": [
       "3"
      ]
     },
     "execution_count": 2,
     "metadata": {},
     "output_type": "execute_result"
    }
   ],
   "source": [
    "res = add.apply_async(args=(1, 2))\n",
    "results = res.get()\n",
    "results"
   ]
  },
  {
   "cell_type": "markdown",
   "metadata": {},
   "source": [
    "#### Calculate pi in range 1 to 10**5"
   ]
  },
  {
   "cell_type": "code",
   "execution_count": 3,
   "metadata": {},
   "outputs": [
    {
     "name": "stdout",
     "output_type": "stream",
     "text": [
      "[4.0, 3.0418396189294032, 3.1315929035585537, 3.140592653839794, 3.1414926535900345, 3.1415826535897198, 3.1415916535897743, 3.1415925535897915]\n",
      "[4.0, 3.0418396189294032, 3.1315929035585537, 3.140592653839794, 3.1414926535900345, 3.1415826535897198, 3.1415916535897743, 3.1415925535897915]\n",
      "[4.0, 3.0418396189294032, 3.1315929035585537, 3.140592653839794, 3.1414926535900345, 3.1415826535897198, 3.1415916535897743, 3.1415925535897915]\n",
      "[4.0, 3.0418396189294032, 3.1315929035585537, 3.140592653839794, 3.1414926535900345, 3.1415826535897198, 3.1415916535897743, 3.1415925535897915]\n",
      "1 loop, best of 3: 5.57 s per loop\n"
     ]
    }
   ],
   "source": [
    "%%timeit\n",
    "from celery import group\n",
    "job = group(make_pi.subtask((10**x, )) for x in range(0,8))\n",
    "job_result = job.delay()\n",
    "results = job_result.get()\n",
    "print(results)"
   ]
  },
  {
   "cell_type": "code",
   "execution_count": 4,
   "metadata": {},
   "outputs": [
    {
     "name": "stdout",
     "output_type": "stream",
     "text": [
      "[4.0, 3.0418396189294032, 3.1315929035585537, 3.140592653839794, 3.1414926535900345, 3.1415826535897198, 3.1415916535897743, 3.1415925535897915]\n",
      "[4.0, 3.0418396189294032, 3.1315929035585537, 3.140592653839794, 3.1414926535900345, 3.1415826535897198, 3.1415916535897743, 3.1415925535897915]\n",
      "[4.0, 3.0418396189294032, 3.1315929035585537, 3.140592653839794, 3.1414926535900345, 3.1415826535897198, 3.1415916535897743, 3.1415925535897915]\n",
      "[4.0, 3.0418396189294032, 3.1315929035585537, 3.140592653839794, 3.1414926535900345, 3.1415826535897198, 3.1415916535897743, 3.1415925535897915]\n",
      "1 loop, best of 3: 5.77 s per loop\n"
     ]
    }
   ],
   "source": [
    "%%timeit\n",
    "pis = []\n",
    "for x in range(0,8):\n",
    "    pis.append(make_pi(10**x))\n",
    "print(pis)"
   ]
  },
  {
   "cell_type": "markdown",
   "metadata": {},
   "source": [
    "#### Sum the numbers between the 1 to 1000 twice"
   ]
  },
  {
   "cell_type": "code",
   "execution_count": 5,
   "metadata": {},
   "outputs": [
    {
     "name": "stdout",
     "output_type": "stream",
     "text": [
      "2000\n",
      "2000\n",
      "2000\n",
      "2000\n",
      "1 loop, best of 3: 26.9 s per loop\n"
     ]
    }
   ],
   "source": [
    "%%timeit\n",
    "from celery import chain\n",
    "jobs = chain(add.si(i, i) for i in range(1,1001))\n",
    "job_result = jobs.apply_async()\n",
    "results = job_result.get()\n",
    "print(results)"
   ]
  },
  {
   "cell_type": "code",
   "execution_count": 6,
   "metadata": {},
   "outputs": [
    {
     "name": "stdout",
     "output_type": "stream",
     "text": [
      "1001000\n",
      "1001000\n",
      "1001000\n",
      "1001000\n",
      "1001000\n",
      "1001000\n",
      "1001000\n",
      "1001000\n",
      "1001000\n",
      "1001000\n",
      "1001000\n",
      "1001000\n",
      "1001000\n",
      "1001000\n",
      "1001000\n",
      "1001000\n",
      "1001000\n",
      "1001000\n",
      "1001000\n",
      "1001000\n",
      "1001000\n",
      "1001000\n",
      "1001000\n",
      "1001000\n",
      "1001000\n",
      "1001000\n",
      "1001000\n",
      "1001000\n",
      "1001000\n",
      "1001000\n",
      "1001000\n",
      "1001000\n",
      "1001000\n",
      "1001000\n",
      "1001000\n",
      "1001000\n",
      "1001000\n",
      "1001000\n",
      "1001000\n",
      "1001000\n",
      "1001000\n",
      "10 loops, best of 3: 17.9 ms per loop\n"
     ]
    }
   ],
   "source": [
    "%%timeit\n",
    "results = sum([add(i, i) for i in range(1,1001)])\n",
    "print(results)"
   ]
  },
  {
   "cell_type": "markdown",
   "metadata": {},
   "source": [
    "#### Counter of the words in reviews summaries"
   ]
  },
  {
   "cell_type": "code",
   "execution_count": 7,
   "metadata": {},
   "outputs": [],
   "source": [
    "import pandas as pd"
   ]
  },
  {
   "cell_type": "code",
   "execution_count": 8,
   "metadata": {},
   "outputs": [],
   "source": [
    "reviews = pd.read_csv(\"reviews.csv\", encoding=\"utf-8\", iterator=True, chunksize=1000)"
   ]
  },
  {
   "cell_type": "code",
   "execution_count": 9,
   "metadata": {},
   "outputs": [
    {
     "name": "stdout",
     "output_type": "stream",
     "text": [
      "The slowest run took 11749667.04 times longer than the fastest. This could mean that an intermediate result is being cached.\n",
      "1 loop, best of 3: 11.9 µs per loop\n"
     ]
    }
   ],
   "source": [
    "%%timeit\n",
    "from collections import Counter\n",
    "counter = Counter()\n",
    "for review in reviews:\n",
    "    counter += review.summary.apply(lambda x :Counter(str(x).split(\" \"))).values.sum()\n",
    "counter.most_common()"
   ]
  },
  {
   "cell_type": "markdown",
   "metadata": {},
   "source": [
    "#### Counter of the words in reviews summaries with Celery"
   ]
  },
  {
   "cell_type": "code",
   "execution_count": null,
   "metadata": {},
   "outputs": [],
   "source": [
    "reviews = pd.read_csv(\"reviews.csv\", encoding=\"utf-8\", iterator=True, chunksize=100)"
   ]
  },
  {
   "cell_type": "code",
   "execution_count": null,
   "metadata": {},
   "outputs": [],
   "source": [
    "%%timeit\n",
    "import pickle\n",
    "jobs =[]\n",
    "for review in reviews:\n",
    "    job = apply_counter.apply_async(args=(pickle.dumps(review),))\n",
    "    jobs.append(job)\n",
    "for job in jobs:\n",
    "    counter += pickle.loads(job.get()) "
   ]
  },
  {
   "cell_type": "code",
   "execution_count": null,
   "metadata": {},
   "outputs": [],
   "source": [
    "counter.sum().most_common()"
   ]
  },
  {
   "cell_type": "code",
   "execution_count": null,
   "metadata": {},
   "outputs": [],
   "source": []
  },
  {
   "cell_type": "code",
   "execution_count": null,
   "metadata": {},
   "outputs": [],
   "source": []
  },
  {
   "cell_type": "code",
   "execution_count": null,
   "metadata": {},
   "outputs": [],
   "source": []
  }
 ],
 "metadata": {
  "kernelspec": {
   "display_name": "Python 2",
   "language": "python",
   "name": "python2"
  },
  "language_info": {
   "codemirror_mode": {
    "name": "ipython",
    "version": 2
   },
   "file_extension": ".py",
   "mimetype": "text/x-python",
   "name": "python",
   "nbconvert_exporter": "python",
   "pygments_lexer": "ipython2",
   "version": "2.7.10"
  }
 },
 "nbformat": 4,
 "nbformat_minor": 1
}
